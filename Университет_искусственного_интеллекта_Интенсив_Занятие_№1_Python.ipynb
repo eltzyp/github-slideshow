{
  "nbformat": 4,
  "nbformat_minor": 0,
  "metadata": {
    "colab": {
      "name": "Университет искусственного интеллекта. Интенсив. Занятие №1. Python",
      "provenance": [],
      "collapsed_sections": [
        "_fDikNphs8-2",
        "crXhjw2HuPBU",
        "scftZ44zwO3R",
        "Rdkm9JLj7y6m",
        "sbQCF6QE9TDK",
        "820GGRu0CohO"
      ],
      "include_colab_link": true
    },
    "kernelspec": {
      "name": "python3",
      "display_name": "Python 3"
    }
  },
  "cells": [
    {
      "cell_type": "markdown",
      "metadata": {
        "id": "view-in-github",
        "colab_type": "text"
      },
      "source": [
        "<a href=\"https://colab.research.google.com/github/eltzyp/github-slideshow/blob/master/%D0%A3%D0%BD%D0%B8%D0%B2%D0%B5%D1%80%D1%81%D0%B8%D1%82%D0%B5%D1%82_%D0%B8%D1%81%D0%BA%D1%83%D1%81%D1%81%D1%82%D0%B2%D0%B5%D0%BD%D0%BD%D0%BE%D0%B3%D0%BE_%D0%B8%D0%BD%D1%82%D0%B5%D0%BB%D0%BB%D0%B5%D0%BA%D1%82%D0%B0_%D0%98%D0%BD%D1%82%D0%B5%D0%BD%D1%81%D0%B8%D0%B2_%D0%97%D0%B0%D0%BD%D1%8F%D1%82%D0%B8%D0%B5_%E2%84%961_Python.ipynb\" target=\"_parent\"><img src=\"https://colab.research.google.com/assets/colab-badge.svg\" alt=\"Open In Colab\"/></a>"
      ]
    },
    {
      "cell_type": "markdown",
      "metadata": {
        "id": "_fDikNphs8-2"
      },
      "source": [
        "# **Синтаксис языка Python**"
      ]
    },
    {
      "cell_type": "markdown",
      "metadata": {
        "id": "LNEhFUSVtov8"
      },
      "source": [
        "Для прикладных целей важно овладеть несколькими аспектами:\n",
        "\n",
        "- Стандартные функции языка\n",
        "- Переменные и типы данных\n",
        "- Базовые конструкции и структуры\n",
        "- Написание пользовательских функций\n",
        "- Загрузка и использование библиотек"
      ]
    },
    {
      "cell_type": "markdown",
      "metadata": {
        "id": "crXhjw2HuPBU"
      },
      "source": [
        "## Стандартные функции языка"
      ]
    },
    {
      "cell_type": "markdown",
      "metadata": {
        "id": "LTBCtVtjuUDK"
      },
      "source": [
        "**Функции** - это небольшие программы, которые умеют выполнять какую-то операцию.\n",
        "Для использования функции необходимо написать ее имя, после которого следуют круглые скобки, в которых указываются **аргументы** (над каким объектом будет выполнена операция) и **параметры** (с какими условиями)."
      ]
    },
    {
      "cell_type": "markdown",
      "metadata": {
        "id": "y1GzO-8nuptB"
      },
      "source": [
        "***Функция print()***"
      ]
    },
    {
      "cell_type": "markdown",
      "metadata": {
        "id": "uwk1dV6XuwrR"
      },
      "source": [
        "Функция для вывода содержимого на экран. "
      ]
    },
    {
      "cell_type": "code",
      "metadata": {
        "id": "0v08JlLNu9Ax"
      },
      "source": [
        "# Вызов справки по функции print()\n",
        "print?"
      ],
      "execution_count": null,
      "outputs": []
    },
    {
      "cell_type": "code",
      "metadata": {
        "id": "vlksQ5bhs0A7",
        "colab": {
          "base_uri": "https://localhost:8080/"
        },
        "outputId": "b633d861-a28d-40fc-a218-d269ef424e20"
      },
      "source": [
        "print(4) # Вызываем функцию print и в скобках передаем ей параметр, который требуется напечатать"
      ],
      "execution_count": null,
      "outputs": [
        {
          "output_type": "stream",
          "text": [
            "4\n"
          ],
          "name": "stdout"
        }
      ]
    },
    {
      "cell_type": "code",
      "metadata": {
        "colab": {
          "base_uri": "https://localhost:8080/"
        },
        "id": "E_wkgeOkFs-m",
        "outputId": "c20e13ed-dd26-4741-caf8-995cca49d464"
      },
      "source": [
        "print(5, 6, 7, 8) "
      ],
      "execution_count": null,
      "outputs": [
        {
          "output_type": "stream",
          "text": [
            "5 6 7 8\n"
          ],
          "name": "stdout"
        }
      ]
    },
    {
      "cell_type": "code",
      "metadata": {
        "id": "5Xe4ag9mu7TM",
        "colab": {
          "base_uri": "https://localhost:8080/"
        },
        "outputId": "d67ec6b3-0c75-452f-da3c-de9ce44c8748"
      },
      "source": [
        "print(5, 6, 7, 8, sep='-') # Вызываем функцию print, в скобках передаем ей набор параметров и разделтель между ними"
      ],
      "execution_count": null,
      "outputs": [
        {
          "output_type": "stream",
          "text": [
            "5-6-7-8\n"
          ],
          "name": "stdout"
        }
      ]
    },
    {
      "cell_type": "code",
      "metadata": {
        "colab": {
          "base_uri": "https://localhost:8080/"
        },
        "id": "C_1bbYTeF0Ce",
        "outputId": "68a79833-9141-4a3a-9712-490b8d024766"
      },
      "source": [
        "print('Точность распознавания =', 97, '%')"
      ],
      "execution_count": null,
      "outputs": [
        {
          "output_type": "stream",
          "text": [
            "Точность распознавания = 97 %\n"
          ],
          "name": "stdout"
        }
      ]
    },
    {
      "cell_type": "code",
      "metadata": {
        "colab": {
          "base_uri": "https://localhost:8080/"
        },
        "id": "k3rVNG3mF9cY",
        "outputId": "56b6f073-0132-4b36-e099-fbf96eaacd28"
      },
      "source": [
        "print('Точность распознавания = ', 97, '%', sep='')"
      ],
      "execution_count": null,
      "outputs": [
        {
          "output_type": "stream",
          "text": [
            "Точность распознавания = 97%\n"
          ],
          "name": "stdout"
        }
      ]
    },
    {
      "cell_type": "code",
      "metadata": {
        "id": "gZEg2LaWvGje",
        "colab": {
          "base_uri": "https://localhost:8080/"
        },
        "outputId": "30c34737-2f50-4ff2-c0f3-93a1129b49c4"
      },
      "source": [
        "print(\"Май\") # Вызываем функцию print и в скобках передаем ей параметр, который требуется напечатать (в данном случае печатаем текстовую информацию)"
      ],
      "execution_count": null,
      "outputs": [
        {
          "output_type": "stream",
          "text": [
            "Май\n"
          ],
          "name": "stdout"
        }
      ]
    },
    {
      "cell_type": "code",
      "metadata": {
        "id": "xFkqE6LIvJVk",
        "colab": {
          "base_uri": "https://localhost:8080/"
        },
        "outputId": "94bc0c01-900d-4837-a4d5-cdf91dbed6ae"
      },
      "source": [
        "print('Переменная равна:', 5) # Вывод на экран одновременно и текстовой и числовой информации"
      ],
      "execution_count": null,
      "outputs": [
        {
          "output_type": "stream",
          "text": [
            "Переменная равна: 5\n"
          ],
          "name": "stdout"
        }
      ]
    },
    {
      "cell_type": "code",
      "metadata": {
        "colab": {
          "base_uri": "https://localhost:8080/"
        },
        "id": "pckiVcimGELi",
        "outputId": "9c3c99d2-219c-46e4-9088-003fdf34bb13"
      },
      "source": [
        "x = 15\n",
        "print('Переменная равна:', x) # Вывод на экран одновременно и текстовой и числовой информации"
      ],
      "execution_count": null,
      "outputs": [
        {
          "output_type": "stream",
          "text": [
            "Переменная равна: 15\n"
          ],
          "name": "stdout"
        }
      ]
    },
    {
      "cell_type": "markdown",
      "metadata": {
        "id": "xNaFRr4KvYa8"
      },
      "source": [
        "***Функция round()***"
      ]
    },
    {
      "cell_type": "code",
      "metadata": {
        "id": "NaSLBcYlvUFj",
        "colab": {
          "base_uri": "https://localhost:8080/"
        },
        "outputId": "5f507dd2-3782-4e87-da93-ae706b160b2f"
      },
      "source": [
        "print('Переменная равна:', round(5.123, 1),'и вторая переменная равна:',  round(7.9384950,2)) # Вывод на экран информации с помощью функции print(), внутри которой вызывается функция round()"
      ],
      "execution_count": null,
      "outputs": [
        {
          "output_type": "stream",
          "text": [
            "Переменная равна: 5.1 и вторая переменная равна: 7.94\n"
          ],
          "name": "stdout"
        }
      ]
    },
    {
      "cell_type": "markdown",
      "metadata": {
        "id": "XrEVbBAXvoa6"
      },
      "source": [
        "***Функция input()***"
      ]
    },
    {
      "cell_type": "markdown",
      "metadata": {
        "id": "VmEw1X8IvxBI"
      },
      "source": [
        "Функция для ввода данных в программу с клавиатуры. <br>\n",
        "Обязательных аргументов нет. Можно передавать строчку, которая будет выведена перед ячейкой ввода. "
      ]
    },
    {
      "cell_type": "code",
      "metadata": {
        "id": "AybzWrrMvjkP",
        "colab": {
          "base_uri": "https://localhost:8080/"
        },
        "outputId": "4a3ef283-f0c0-428b-cadb-fcbc5e3406ba"
      },
      "source": [
        "name = input() # Вызываем функцию input, которая позволяет вводить данные с клавиатуры и записываем введенные данные в переменную name\n",
        "print('Вас зовут', name) # Вызываем функцию print, которая выведет значение переменной name"
      ],
      "execution_count": null,
      "outputs": [
        {
          "output_type": "stream",
          "text": [
            "Дмитрий\n",
            "Вас зовут Дмитрий\n"
          ],
          "name": "stdout"
        }
      ]
    },
    {
      "cell_type": "code",
      "metadata": {
        "id": "PzKOvIn0v4oE",
        "colab": {
          "base_uri": "https://localhost:8080/"
        },
        "outputId": "bf0a5730-a4b6-438f-ffd7-a20fc321f857"
      },
      "source": [
        "name = input('- Введите ваше имя:\\n- ') # Вызываем функцию input с приветственным сообщением, которая позволяет вводить данные с клавиатуры и записываем введенные данные в переменную name\n",
        "print('- Вас зовут', name) # Вызываем функцию print, которая выведет значение переменной name"
      ],
      "execution_count": null,
      "outputs": [
        {
          "output_type": "stream",
          "text": [
            "- Введите ваше имя:\n",
            "- Дмитрий\n",
            "- Вас зовут Дмитрий\n"
          ],
          "name": "stdout"
        }
      ]
    },
    {
      "cell_type": "markdown",
      "metadata": {
        "id": "kWh3hUd2646-"
      },
      "source": [
        "**Познакомиться со списком встроенных функций языка Python Вы можете на этом ресурсе**\n",
        "\n",
        "https://pythonworld.ru/osnovy/vstroennye-funkcii.html"
      ]
    },
    {
      "cell_type": "markdown",
      "metadata": {
        "id": "scftZ44zwO3R"
      },
      "source": [
        "## Переменные и типы данных"
      ]
    },
    {
      "cell_type": "markdown",
      "metadata": {
        "id": "1KPerJgQwn7m"
      },
      "source": [
        "***Переменные***"
      ]
    },
    {
      "cell_type": "markdown",
      "metadata": {
        "id": "R7jxJ1FLwW-H"
      },
      "source": [
        "Результаты операций и манипуляций иногда нужно сохранять, поэтому мы определяем переменные - именованные объекты, которым присваиваем значения. "
      ]
    },
    {
      "cell_type": "code",
      "metadata": {
        "id": "oHsJ9qKMwC2Z"
      },
      "source": [
        "# Задаем значения переменных\n",
        "S = 100 # Создаем переменную S и присваиваем ей значение 100\n",
        "pi = 3.14 # Создаем переменную pi  и присваиваем ей значение 3.14"
      ],
      "execution_count": null,
      "outputs": []
    },
    {
      "cell_type": "code",
      "metadata": {
        "id": "FgrkeJOzwct8"
      },
      "source": [
        "r = (S / pi) ** (0.5) # Создаем переменную r и присваиваем ей значение, которое получается в  результате (S / pi) ** (0.5)"
      ],
      "execution_count": null,
      "outputs": []
    },
    {
      "cell_type": "code",
      "metadata": {
        "id": "HbA0DCWQwfii",
        "colab": {
          "base_uri": "https://localhost:8080/"
        },
        "outputId": "fa064e13-aa6c-4a65-a696-8e5d1f5341fb"
      },
      "source": [
        "print('r =', round(r,2))  # Вызываем функцию print, которая выведет переменную r, округленную до двух знаков после запятой"
      ],
      "execution_count": null,
      "outputs": [
        {
          "output_type": "stream",
          "text": [
            "r = 5.64\n"
          ],
          "name": "stdout"
        }
      ]
    },
    {
      "cell_type": "markdown",
      "metadata": {
        "id": "56R8i6PtwqqH"
      },
      "source": [
        "***Типы данных***"
      ]
    },
    {
      "cell_type": "markdown",
      "metadata": {
        "id": "_y7JOWtDwvLv"
      },
      "source": [
        "- int (integer numbers) - целые числа\n",
        "- float (floating-point numbers) - числа с плавающей точкой\n",
        "- str (string) - строки\n",
        "- bool (boolean) - логический тип\n",
        "\n",
        "Функция **type()** позволяет определить тип переменной "
      ]
    },
    {
      "cell_type": "code",
      "metadata": {
        "id": "7GCnY6qQwiUb",
        "colab": {
          "base_uri": "https://localhost:8080/"
        },
        "outputId": "1c587af2-e2cd-4ddf-c824-26a433fd6357"
      },
      "source": [
        "print('Значение переменной r:',r) # Выведем на экран значение переменной r\n",
        "print('Тип переменной r:',type(r)) # Вызываем функцию print, которая выведет тип переменной r\n",
        "print() # Вывдем на экран пустую строчку\n",
        "print('Значение переменной S:',S) # Выведем на экран значение переменной S\n",
        "print('Тип переменной S:',type(S)) # Вызываем функцию print, которая выведет тип переменной S"
      ],
      "execution_count": null,
      "outputs": [
        {
          "output_type": "stream",
          "text": [
            "Значение переменной r: 5.643326479831003\n",
            "Тип переменной r: <class 'float'>\n",
            "\n",
            "Значение переменной S: 100\n",
            "Тип переменной S: <class 'int'>\n"
          ],
          "name": "stdout"
        }
      ]
    },
    {
      "cell_type": "code",
      "metadata": {
        "id": "cPbVqL6QwuX5",
        "colab": {
          "base_uri": "https://localhost:8080/"
        },
        "outputId": "2c663d3b-9cea-44a1-967c-77198bee707d"
      },
      "source": [
        "text = 'Площадь круга' # Создаем переменную с именем text и присваиваем ей значение \"Площадь круга\"\n",
        "print('Значение переменной text:',text) # Выведем на экран значение переменной text\n",
        "print('Тип переменной text:',type(text)) # Вызываем функцию print, которая выведет тип переменной text"
      ],
      "execution_count": null,
      "outputs": [
        {
          "output_type": "stream",
          "text": [
            "Значение переменной text: Площадь круга\n",
            "Тип переменной text: <class 'str'>\n"
          ],
          "name": "stdout"
        }
      ]
    },
    {
      "cell_type": "code",
      "metadata": {
        "id": "efn_tcLMxSWc",
        "colab": {
          "base_uri": "https://localhost:8080/"
        },
        "outputId": "d6482800-953c-4a1e-f0d7-94b541bc801d"
      },
      "source": [
        "x = False # Создаем переменную с именем x и присваиваем ей значение False\n",
        "y = True # Создаем переменную с именем x и присваиваем ей значение True\n",
        "print('Значение переменной x:',x) # Выведем на экран значение переменной x\n",
        "print('Тип переменной x:',type(x)) # Вызываем функцию print, которая выведет тип переменной x\n",
        "print() # Вывдем на экран пустую стрчоку\n",
        "print('Значение переменной x:',y) # Выведем на экран значение переменной y\n",
        "print('Тип переменной x:',type(y)) # Вызываем функцию print, которая выведет тип переменной y"
      ],
      "execution_count": null,
      "outputs": [
        {
          "output_type": "stream",
          "text": [
            "Значение переменной x: False\n",
            "Тип переменной x: <class 'bool'>\n",
            "\n",
            "Значение переменной x: True\n",
            "Тип переменной x: <class 'bool'>\n"
          ],
          "name": "stdout"
        }
      ]
    },
    {
      "cell_type": "markdown",
      "metadata": {
        "id": "3JwCpOHIxzgK"
      },
      "source": [
        "Если нужно поменять тип переменной, то полезны функции:\n",
        "\n",
        "- int() - возвращает целочисленную переменную\n",
        "- float() - возвращает нецелочисленную переменную\n",
        "- bool() - возвращает булеву переменную\n",
        "- str() - возвращает строковую переменную"
      ]
    },
    {
      "cell_type": "code",
      "metadata": {
        "id": "vxQeqwjJxo6H",
        "colab": {
          "base_uri": "https://localhost:8080/"
        },
        "outputId": "407b13a2-9a3b-42a4-b4e3-581b6a75166d"
      },
      "source": [
        "print('Значение переменной r:',r) # Выведем на экран значение переменной r\n",
        "print('Тип переменной r:',type(r)) # Вызываем функцию print, которая выведет тип переменной r\n",
        "print() # Вывдем на экран пустую стрчоку\n",
        "r_new = str(r) # Создадим переменную r_new и запишем в нее значение переменной r, преобразованной к типу str (строковый)\n",
        "print('Значение переменной r_new:',r_new) # Выведем на экран значение переменной r\n",
        "print('Тип переменной r_new:',type(r_new)) # Вызываем функцию print, которая выведет тип переменной r"
      ],
      "execution_count": null,
      "outputs": [
        {
          "output_type": "stream",
          "text": [
            "Значение переменной r: 5.643326479831003\n",
            "Тип переменной r: <class 'float'>\n",
            "\n",
            "Значение переменной r_new: 5.643326479831003\n",
            "Тип переменной r_new: <class 'str'>\n"
          ],
          "name": "stdout"
        }
      ]
    },
    {
      "cell_type": "code",
      "metadata": {
        "colab": {
          "base_uri": "https://localhost:8080/"
        },
        "id": "v-ngwrI7J12I",
        "outputId": "d1385f87-fa4d-4dd6-814a-a85028c0920a"
      },
      "source": [
        "print(r_new[0])\n",
        "print(r_new[1])"
      ],
      "execution_count": null,
      "outputs": [
        {
          "output_type": "stream",
          "text": [
            "5\n",
            ".\n"
          ],
          "name": "stdout"
        }
      ]
    },
    {
      "cell_type": "code",
      "metadata": {
        "colab": {
          "base_uri": "https://localhost:8080/"
        },
        "id": "UzuAK62tKHEW",
        "outputId": "142d735a-60da-4bfc-b284-280fe3b0f7a6"
      },
      "source": [
        "x = 0\n",
        "x_bool = bool(x)\n",
        "print(x_bool)"
      ],
      "execution_count": null,
      "outputs": [
        {
          "output_type": "stream",
          "text": [
            "False\n"
          ],
          "name": "stdout"
        }
      ]
    },
    {
      "cell_type": "code",
      "metadata": {
        "colab": {
          "base_uri": "https://localhost:8080/"
        },
        "id": "Vywaa1ENKOnC",
        "outputId": "b599fca1-1bb4-413e-c9eb-a7a827e6e36b"
      },
      "source": [
        "x_str = '11'\n",
        "x_int = int(x_str)\n",
        "print(x_int)"
      ],
      "execution_count": null,
      "outputs": [
        {
          "output_type": "stream",
          "text": [
            "11\n"
          ],
          "name": "stdout"
        }
      ]
    },
    {
      "cell_type": "code",
      "metadata": {
        "colab": {
          "base_uri": "https://localhost:8080/",
          "height": 198
        },
        "id": "Y3qzLOikKWMx",
        "outputId": "c561a259-508f-476c-83ad-e0a92b63c055"
      },
      "source": [
        "print(x_int+2)\n",
        "print(x_str+2)"
      ],
      "execution_count": null,
      "outputs": [
        {
          "output_type": "stream",
          "text": [
            "13\n"
          ],
          "name": "stdout"
        },
        {
          "output_type": "error",
          "ename": "TypeError",
          "evalue": "ignored",
          "traceback": [
            "\u001b[0;31m---------------------------------------------------------------------------\u001b[0m",
            "\u001b[0;31mTypeError\u001b[0m                                 Traceback (most recent call last)",
            "\u001b[0;32m<ipython-input-31-f077cc74507d>\u001b[0m in \u001b[0;36m<module>\u001b[0;34m()\u001b[0m\n\u001b[1;32m      1\u001b[0m \u001b[0mprint\u001b[0m\u001b[0;34m(\u001b[0m\u001b[0mx_int\u001b[0m\u001b[0;34m+\u001b[0m\u001b[0;36m2\u001b[0m\u001b[0;34m)\u001b[0m\u001b[0;34m\u001b[0m\u001b[0;34m\u001b[0m\u001b[0m\n\u001b[0;32m----> 2\u001b[0;31m \u001b[0mprint\u001b[0m\u001b[0;34m(\u001b[0m\u001b[0mx_str\u001b[0m\u001b[0;34m+\u001b[0m\u001b[0;36m2\u001b[0m\u001b[0;34m)\u001b[0m\u001b[0;34m\u001b[0m\u001b[0;34m\u001b[0m\u001b[0m\n\u001b[0m",
            "\u001b[0;31mTypeError\u001b[0m: must be str, not int"
          ]
        }
      ]
    },
    {
      "cell_type": "code",
      "metadata": {
        "colab": {
          "base_uri": "https://localhost:8080/"
        },
        "id": "CXyvO4ZkKz7t",
        "outputId": "1c27d69e-ef2f-4c6d-f0b2-2ea5ec9dd857"
      },
      "source": [
        "print(x_str + ' книг про Гарри Поттера прочитал я этой осенью')"
      ],
      "execution_count": null,
      "outputs": [
        {
          "output_type": "stream",
          "text": [
            "11 книг про Гарри Поттера прочитал я этой осенью\n"
          ],
          "name": "stdout"
        }
      ]
    },
    {
      "cell_type": "markdown",
      "metadata": {
        "id": "QhQgBb25yXmp"
      },
      "source": [
        "***Логический тип данных boolean***"
      ]
    },
    {
      "cell_type": "markdown",
      "metadata": {
        "id": "B-hMOu530up4"
      },
      "source": [
        "![table.png](data:image/png;base64,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)"
      ]
    },
    {
      "cell_type": "code",
      "metadata": {
        "id": "lnfGfzGlx9dm",
        "colab": {
          "base_uri": "https://localhost:8080/"
        },
        "outputId": "2b68ea74-b723-4694-c8f0-6739b92b8ecc"
      },
      "source": [
        "x = 4 # Создаем переменную x и присваиваем ей значение 4\n",
        "y = 5 # Создаем переменную y и присваиваем ей значение 5\n",
        "print('Результат выражения: x > 3 and y > 3: ', x > 3 and y > 3) # Вызываем функцию print, которая выведет результат выражения (x > 3 and y > 3)\n",
        "print('Результат выражения: x > y or x == y:', x > y or x == y) # Вызываем функцию print, которая выведет результат выражения (x > y or x == y)\n",
        "print('Результат выражения: not (x > y):', not (x > y)) # Вызываем функцию print, которая выведет результат выражения (not (x > y))"
      ],
      "execution_count": null,
      "outputs": [
        {
          "output_type": "stream",
          "text": [
            "Результат выражения: x > 3 and y > 3:  True\n",
            "Результат выражения: x > y or x == y: False\n",
            "Результат выражения: not (x > y): True\n"
          ],
          "name": "stdout"
        }
      ]
    },
    {
      "cell_type": "code",
      "metadata": {
        "id": "d2Sme6S_1STx",
        "colab": {
          "base_uri": "https://localhost:8080/"
        },
        "outputId": "87567f97-78cb-4fa8-ff30-fa1f6e0bc099"
      },
      "source": [
        "a = 1 # Создаем переменную a и присваиваем ей значение 1\n",
        "b = 2 # Создаем переменную b и присваиваем ей значение 2\n",
        "c = 3 # Создаем переменную c и присваиваем ей значение 3\n",
        "d = 4 # Создаем переменную d и присваиваем ей значение 4\n",
        "\n",
        "print(((a == d) and (a > c)) != 1) # Считаем значение выражения"
      ],
      "execution_count": null,
      "outputs": [
        {
          "output_type": "stream",
          "text": [
            "True\n"
          ],
          "name": "stdout"
        }
      ]
    },
    {
      "cell_type": "markdown",
      "metadata": {
        "id": "YODWTtj07ZeD"
      },
      "source": [
        "***Более подробная информация о типах данных языка Python***\n",
        "\n",
        "Числовые типы данных: https://pythonworld.ru/osnovy/vstroennye-funkcii.html\n",
        "\n",
        "Строковый тип данных: https://pythonworld.ru/tipy-dannyx-v-python/stroki-funkcii-i-metody-strok.html"
      ]
    },
    {
      "cell_type": "markdown",
      "metadata": {
        "id": "Rdkm9JLj7y6m"
      },
      "source": [
        "## Базовые конструкции и структуры"
      ]
    },
    {
      "cell_type": "markdown",
      "metadata": {
        "id": "vT4yRAkC2kL8"
      },
      "source": [
        "***Условный оператор***"
      ]
    },
    {
      "cell_type": "markdown",
      "metadata": {
        "id": "ZaGS7uJC2nAV"
      },
      "source": [
        "Синтаксис в питоне: <br />\n",
        "**if** условие_1:<br />\n",
        "&emsp; команды<br />\n",
        "**elif** условие_2:<br />\n",
        "&emsp; команды<br />\n",
        "**elif** условие_3:<br />\n",
        "&emsp; команды<br />\n",
        "&emsp; ... <br />\n",
        "**elif** условие_N:<br />\n",
        "&emsp; команды<br />\n",
        "**else**: <br />\n",
        "&emsp; команды<br />"
      ]
    },
    {
      "cell_type": "code",
      "metadata": {
        "id": "5baMi0p02aOW",
        "colab": {
          "base_uri": "https://localhost:8080/"
        },
        "outputId": "de90da1c-cd34-4bcc-f421-58a874429f9a"
      },
      "source": [
        "x = 8   # Создаем переменную x и присваиваем ей значение 8\n",
        "y = 9   # Создаем переменную y и присваиваем ей значение 9\n",
        "\n",
        "print('Переменная x=',x,sep='')\n",
        "print('Переменная y=',y,sep='')\n",
        "print('') # Вызываем функцию print, которая выведет пустую строку\n",
        "# Если x > y\n",
        "if x > y:\n",
        "  print('X больше Y') # то вызываем функцию print, которая выведет фразу: 'X больше Y'\n",
        "  print(x - y) # И вызываем функцию print, которая выведет разность x и y\n",
        "# В противном случае (если x <= y)\n",
        "else: \n",
        "  print('Y не меньше, чем X') # и вызываем функцию print, которая выведет фразу: 'Y не меньше, чем X'"
      ],
      "execution_count": null,
      "outputs": [
        {
          "output_type": "stream",
          "text": [
            "Переменная x=8\n",
            "Переменная y=9\n",
            "\n",
            "Y не меньше, чем X\n"
          ],
          "name": "stdout"
        }
      ]
    },
    {
      "cell_type": "code",
      "metadata": {
        "id": "Byrb3jzn2u5-",
        "colab": {
          "base_uri": "https://localhost:8080/"
        },
        "outputId": "d4cb68f2-9937-449d-c3a8-24bc393d82b5"
      },
      "source": [
        "x = int(input('Введите число X: ')) # Вызываем функцию input (просим пользователя ввести число X) и записываем введенные данные в переменную x (при этом преобразуем их к типу int)\n",
        "y = int(input('Введите число Y: ')) # Вызываем функцию input (просим пользователя ввести число Y) и записываем введенные данные в переменную y (при этом преобразуем их к типу int)\n",
        "print()\n",
        "print('Переменная x=',x,sep='')\n",
        "print('Переменная y=',y,sep='')\n",
        "print('') # Вызываем функцию print, которая выведет пустую строку\n",
        "# Если x > y\n",
        "if x > y: \n",
        "    print('X больше Y') # то вызываем функцию print, которая выведет фразу: 'X больше Y'\n",
        "    print('x - y = ', x - y) # И вызываем функцию print, которая выведет разность x и y\n",
        "# в противном случае, если y > x\n",
        "elif y > x: \n",
        "    print('Y больше X') # то вызываем функцию print, которая выведет фразу: 'Y больше X'\n",
        "    print('y - x = ', y - x) # И вызываем функцию print, которая выведет разность y и x\n",
        "# в противном случае (x равен y)\n",
        "else:\n",
        "    print('X равно Y') # вызываем функцию print, которая выведет фразу: 'X равно Y'"
      ],
      "execution_count": null,
      "outputs": [
        {
          "output_type": "stream",
          "text": [
            "Введите число X: 7\n",
            "Введите число Y: 2\n",
            "\n",
            "Переменная x=7\n",
            "Переменная y=2\n",
            "\n",
            "X больше Y\n",
            "x - y =  5\n"
          ],
          "name": "stdout"
        }
      ]
    },
    {
      "cell_type": "markdown",
      "metadata": {
        "id": "75e17PKm3I-r"
      },
      "source": [
        "***Цикл while***"
      ]
    },
    {
      "cell_type": "markdown",
      "metadata": {
        "id": "59GF7bJf3Mq0"
      },
      "source": [
        "Циклические конструкции используются для многократного повторения одних и тех же действий. \n",
        "\n",
        "В цикле while команды выполняются до тех пор, пока некоторое заданное условие верно. При этом, если в теле цикла прямо не прописана процедура изменения переменной, заданной в условии, то получится бесконечный цикл.\n",
        "\n",
        "Структура цикла while:"
      ]
    },
    {
      "cell_type": "code",
      "metadata": {
        "id": "1ckbmK0k28g8",
        "colab": {
          "base_uri": "https://localhost:8080/"
        },
        "outputId": "8b955d89-f8a6-418a-9b3c-2c05219b7aee"
      },
      "source": [
        "value = 3 # Создаем переменную layers_num и записываем в нее значение 3\n",
        "\n",
        "while value > 0: # Пока значение переменной layers_num > 0\n",
        "    print('Значение переменной value:', value) # Вызываем функцию print, которая напечатает фразу 'Это многослойная сеть'\n",
        "    value -=1 # Уменьшаем значение переменной layers_num на 1 (то же самое, что и layers_num = layers_num - 1)"
      ],
      "execution_count": null,
      "outputs": [
        {
          "output_type": "stream",
          "text": [
            "Значение переменной value: 3\n",
            "Значение переменной value: 2\n",
            "Значение переменной value: 1\n"
          ],
          "name": "stdout"
        }
      ]
    },
    {
      "cell_type": "markdown",
      "metadata": {
        "id": "3s1tEcBj3Wp8"
      },
      "source": [
        "Пример:\n",
        "\n",
        "Дано число N (вводится с клавиатуры).\n",
        "\n",
        " По данному целому числу N распечатайте все квадраты натуральных чисел, не превосходящие N, в порядке возрастания."
      ]
    },
    {
      "cell_type": "code",
      "metadata": {
        "id": "Q0AlVvpN3Oye",
        "colab": {
          "base_uri": "https://localhost:8080/"
        },
        "outputId": "bdd13db9-b8c6-4ffe-f4ce-c11c19d8c173"
      },
      "source": [
        "N = int(input('Введите целое число: ')) # Вводим число N\n",
        "i = 1 # Задаем начальное натуральное число\n",
        "\n",
        "# Создаем цикл while в соответствии с условиями задания\n",
        "while  i ** 2 < N: \n",
        "  print('Число = ', i, ', число в квадрате = ', i ** 2, sep='') # Выводим на экран квадрат текущего натурального числа\n",
        "  i += 1 # Увеличиваем текущее натуральное число на 1  "
      ],
      "execution_count": null,
      "outputs": [
        {
          "output_type": "stream",
          "text": [
            "Введите целое число: 22345\n",
            "Число = 1, число в квадрате = 1\n",
            "Число = 2, число в квадрате = 4\n",
            "Число = 3, число в квадрате = 9\n",
            "Число = 4, число в квадрате = 16\n",
            "Число = 5, число в квадрате = 25\n",
            "Число = 6, число в квадрате = 36\n",
            "Число = 7, число в квадрате = 49\n",
            "Число = 8, число в квадрате = 64\n",
            "Число = 9, число в квадрате = 81\n",
            "Число = 10, число в квадрате = 100\n",
            "Число = 11, число в квадрате = 121\n",
            "Число = 12, число в квадрате = 144\n",
            "Число = 13, число в квадрате = 169\n",
            "Число = 14, число в квадрате = 196\n",
            "Число = 15, число в квадрате = 225\n",
            "Число = 16, число в квадрате = 256\n",
            "Число = 17, число в квадрате = 289\n",
            "Число = 18, число в квадрате = 324\n",
            "Число = 19, число в квадрате = 361\n",
            "Число = 20, число в квадрате = 400\n",
            "Число = 21, число в квадрате = 441\n",
            "Число = 22, число в квадрате = 484\n",
            "Число = 23, число в квадрате = 529\n",
            "Число = 24, число в квадрате = 576\n",
            "Число = 25, число в квадрате = 625\n",
            "Число = 26, число в квадрате = 676\n",
            "Число = 27, число в квадрате = 729\n",
            "Число = 28, число в квадрате = 784\n",
            "Число = 29, число в квадрате = 841\n",
            "Число = 30, число в квадрате = 900\n",
            "Число = 31, число в квадрате = 961\n",
            "Число = 32, число в квадрате = 1024\n",
            "Число = 33, число в квадрате = 1089\n",
            "Число = 34, число в квадрате = 1156\n",
            "Число = 35, число в квадрате = 1225\n",
            "Число = 36, число в квадрате = 1296\n",
            "Число = 37, число в квадрате = 1369\n",
            "Число = 38, число в квадрате = 1444\n",
            "Число = 39, число в квадрате = 1521\n",
            "Число = 40, число в квадрате = 1600\n",
            "Число = 41, число в квадрате = 1681\n",
            "Число = 42, число в квадрате = 1764\n",
            "Число = 43, число в квадрате = 1849\n",
            "Число = 44, число в квадрате = 1936\n",
            "Число = 45, число в квадрате = 2025\n",
            "Число = 46, число в квадрате = 2116\n",
            "Число = 47, число в квадрате = 2209\n",
            "Число = 48, число в квадрате = 2304\n",
            "Число = 49, число в квадрате = 2401\n",
            "Число = 50, число в квадрате = 2500\n",
            "Число = 51, число в квадрате = 2601\n",
            "Число = 52, число в квадрате = 2704\n",
            "Число = 53, число в квадрате = 2809\n",
            "Число = 54, число в квадрате = 2916\n",
            "Число = 55, число в квадрате = 3025\n",
            "Число = 56, число в квадрате = 3136\n",
            "Число = 57, число в квадрате = 3249\n",
            "Число = 58, число в квадрате = 3364\n",
            "Число = 59, число в квадрате = 3481\n",
            "Число = 60, число в квадрате = 3600\n",
            "Число = 61, число в квадрате = 3721\n",
            "Число = 62, число в квадрате = 3844\n",
            "Число = 63, число в квадрате = 3969\n",
            "Число = 64, число в квадрате = 4096\n",
            "Число = 65, число в квадрате = 4225\n",
            "Число = 66, число в квадрате = 4356\n",
            "Число = 67, число в квадрате = 4489\n",
            "Число = 68, число в квадрате = 4624\n",
            "Число = 69, число в квадрате = 4761\n",
            "Число = 70, число в квадрате = 4900\n",
            "Число = 71, число в квадрате = 5041\n",
            "Число = 72, число в квадрате = 5184\n",
            "Число = 73, число в квадрате = 5329\n",
            "Число = 74, число в квадрате = 5476\n",
            "Число = 75, число в квадрате = 5625\n",
            "Число = 76, число в квадрате = 5776\n",
            "Число = 77, число в квадрате = 5929\n",
            "Число = 78, число в квадрате = 6084\n",
            "Число = 79, число в квадрате = 6241\n",
            "Число = 80, число в квадрате = 6400\n",
            "Число = 81, число в квадрате = 6561\n",
            "Число = 82, число в квадрате = 6724\n",
            "Число = 83, число в квадрате = 6889\n",
            "Число = 84, число в квадрате = 7056\n",
            "Число = 85, число в квадрате = 7225\n",
            "Число = 86, число в квадрате = 7396\n",
            "Число = 87, число в квадрате = 7569\n",
            "Число = 88, число в квадрате = 7744\n",
            "Число = 89, число в квадрате = 7921\n",
            "Число = 90, число в квадрате = 8100\n",
            "Число = 91, число в квадрате = 8281\n",
            "Число = 92, число в квадрате = 8464\n",
            "Число = 93, число в квадрате = 8649\n",
            "Число = 94, число в квадрате = 8836\n",
            "Число = 95, число в квадрате = 9025\n",
            "Число = 96, число в квадрате = 9216\n",
            "Число = 97, число в квадрате = 9409\n",
            "Число = 98, число в квадрате = 9604\n",
            "Число = 99, число в квадрате = 9801\n",
            "Число = 100, число в квадрате = 10000\n",
            "Число = 101, число в квадрате = 10201\n",
            "Число = 102, число в квадрате = 10404\n",
            "Число = 103, число в квадрате = 10609\n",
            "Число = 104, число в квадрате = 10816\n",
            "Число = 105, число в квадрате = 11025\n",
            "Число = 106, число в квадрате = 11236\n",
            "Число = 107, число в квадрате = 11449\n",
            "Число = 108, число в квадрате = 11664\n",
            "Число = 109, число в квадрате = 11881\n",
            "Число = 110, число в квадрате = 12100\n",
            "Число = 111, число в квадрате = 12321\n",
            "Число = 112, число в квадрате = 12544\n",
            "Число = 113, число в квадрате = 12769\n",
            "Число = 114, число в квадрате = 12996\n",
            "Число = 115, число в квадрате = 13225\n",
            "Число = 116, число в квадрате = 13456\n",
            "Число = 117, число в квадрате = 13689\n",
            "Число = 118, число в квадрате = 13924\n",
            "Число = 119, число в квадрате = 14161\n",
            "Число = 120, число в квадрате = 14400\n",
            "Число = 121, число в квадрате = 14641\n",
            "Число = 122, число в квадрате = 14884\n",
            "Число = 123, число в квадрате = 15129\n",
            "Число = 124, число в квадрате = 15376\n",
            "Число = 125, число в квадрате = 15625\n",
            "Число = 126, число в квадрате = 15876\n",
            "Число = 127, число в квадрате = 16129\n",
            "Число = 128, число в квадрате = 16384\n",
            "Число = 129, число в квадрате = 16641\n",
            "Число = 130, число в квадрате = 16900\n",
            "Число = 131, число в квадрате = 17161\n",
            "Число = 132, число в квадрате = 17424\n",
            "Число = 133, число в квадрате = 17689\n",
            "Число = 134, число в квадрате = 17956\n",
            "Число = 135, число в квадрате = 18225\n",
            "Число = 136, число в квадрате = 18496\n",
            "Число = 137, число в квадрате = 18769\n",
            "Число = 138, число в квадрате = 19044\n",
            "Число = 139, число в квадрате = 19321\n",
            "Число = 140, число в квадрате = 19600\n",
            "Число = 141, число в квадрате = 19881\n",
            "Число = 142, число в квадрате = 20164\n",
            "Число = 143, число в квадрате = 20449\n",
            "Число = 144, число в квадрате = 20736\n",
            "Число = 145, число в квадрате = 21025\n",
            "Число = 146, число в квадрате = 21316\n",
            "Число = 147, число в квадрате = 21609\n",
            "Число = 148, число в квадрате = 21904\n",
            "Число = 149, число в квадрате = 22201\n"
          ],
          "name": "stdout"
        }
      ]
    },
    {
      "cell_type": "code",
      "metadata": {
        "colab": {
          "base_uri": "https://localhost:8080/"
        },
        "id": "yaTmQlCQPsX5",
        "outputId": "794326d0-0e03-4b9d-88d9-f54a28f81faa"
      },
      "source": [
        "value = 0\n",
        "\n",
        "while value % 2 == 0:\n",
        "  value = int(input('Введите чётное число: '))\n",
        "\n",
        "print('Вот ты и попался,', value, 'не чётное!')"
      ],
      "execution_count": null,
      "outputs": [
        {
          "output_type": "stream",
          "text": [
            "Введите чётное число: 8\n",
            "Введите чётное число: 4\n",
            "Введите чётное число: 2\n",
            "Введите чётное число: 5\n",
            "Вот ты и попался, 5 не чётное!\n"
          ],
          "name": "stdout"
        }
      ]
    },
    {
      "cell_type": "markdown",
      "metadata": {
        "id": "ipbxOvTS4VXZ"
      },
      "source": [
        "***Цикл for***"
      ]
    },
    {
      "cell_type": "markdown",
      "metadata": {
        "id": "ZuUasuAC4Ziy"
      },
      "source": [
        "Команды в цикле for выполняются для заданного списка объектов и повторяются столько раз, сколько этих объектов.\n",
        "\n",
        "Функция **range(n)** - выдает последовательность чисел в зависимости от заданных параметров."
      ]
    },
    {
      "cell_type": "code",
      "metadata": {
        "id": "eH9V8Pys4OTh",
        "colab": {
          "base_uri": "https://localhost:8080/"
        },
        "outputId": "07614b74-9837-4b1c-bccd-577104634854"
      },
      "source": [
        "for i in range(10): # Создаем цикл for, в котором переменная i поочередно будет принимать значения от 0 до 9\n",
        "    print(i) # Вызываем функцию print, которая выводит значение переменной i"
      ],
      "execution_count": null,
      "outputs": [
        {
          "output_type": "stream",
          "text": [
            "0\n",
            "1\n",
            "2\n",
            "3\n",
            "4\n",
            "5\n",
            "6\n",
            "7\n",
            "8\n",
            "9\n"
          ],
          "name": "stdout"
        }
      ]
    },
    {
      "cell_type": "code",
      "metadata": {
        "id": "Z4P1B4SF5g2t",
        "colab": {
          "base_uri": "https://localhost:8080/"
        },
        "outputId": "532188a3-9d4d-4ef9-b861-ea85b725784c"
      },
      "source": [
        "for i in range(3, 12): # Создаем цикл for, в котором переменная i поочередно будет принимать значения от 3 до 11\n",
        "    print(i) # Вызываем функцию print, которая выводит значение переменной i"
      ],
      "execution_count": null,
      "outputs": [
        {
          "output_type": "stream",
          "text": [
            "3\n",
            "4\n",
            "5\n",
            "6\n",
            "7\n",
            "8\n",
            "9\n",
            "10\n",
            "11\n"
          ],
          "name": "stdout"
        }
      ]
    },
    {
      "cell_type": "code",
      "metadata": {
        "colab": {
          "base_uri": "https://localhost:8080/"
        },
        "id": "CJJHRcG7Ujli",
        "outputId": "dd74162a-fe9c-4e7b-deea-fd4168bd0450"
      },
      "source": [
        "x = int(input('Введите верхнюю границу: '))\n",
        "for i in range(3, x, 2): # Создаем цикл for, в котором переменная i поочередно будет принимать значения от 3 до 11\n",
        "    print(i) # Вызываем функцию print, которая выводит значение переменной i"
      ],
      "execution_count": null,
      "outputs": [
        {
          "output_type": "stream",
          "text": [
            "Введите верхнюю границу: 9\n",
            "3\n",
            "5\n",
            "7\n"
          ],
          "name": "stdout"
        }
      ]
    },
    {
      "cell_type": "code",
      "metadata": {
        "id": "F3_Z6m2o5ilt",
        "colab": {
          "base_uri": "https://localhost:8080/"
        },
        "outputId": "fdd155bf-7042-4d29-9d2b-a88de4de8394"
      },
      "source": [
        "for animal in ['кошка', 'собака', 'енот', 'лиса']: # Создаем цикл for, в котором переменная animal поочередно будет принимать значения из последовательности 'кошка', 'собака', 'енот', 'лиса' \n",
        "    print(animal) # Вызываем функцию print, которая выводит значение переменной animal"
      ],
      "execution_count": null,
      "outputs": [
        {
          "output_type": "stream",
          "text": [
            "кошка\n",
            "собака\n",
            "енот\n",
            "лиса\n"
          ],
          "name": "stdout"
        }
      ]
    },
    {
      "cell_type": "code",
      "metadata": {
        "colab": {
          "base_uri": "https://localhost:8080/"
        },
        "id": "bOLnsTgFUKOu",
        "outputId": "d9f734cc-75e4-4f93-f82f-cb84f2644c7c"
      },
      "source": [
        "for animal in ['кошка', 'собака', 'енот', 'лиса']: # Создаем цикл for, в котором переменная animal поочередно будет принимать значения из последовательности 'кошка', 'собака', 'енот', 'лиса' \n",
        "  if (animal == 'енот'):\n",
        "    print('Ого, енот!')\n",
        "    buy = input('Покупаем? -> ')\n",
        "    if (buy=='да') | (buy=='Да'):\n",
        "      print('Енот положен в корзину')\n",
        "    else:\n",
        "      print('Много теряете...')\n",
        "\n",
        "  if ('о' in animal):\n",
        "    print('В названии животного', animal, 'есть буква о')\n",
        "\n",
        "print('Все хвостатые перечислены')"
      ],
      "execution_count": null,
      "outputs": [
        {
          "output_type": "stream",
          "text": [
            "В названии животного кошка есть буква о\n",
            "В названии животного собака есть буква о\n",
            "Ого, енот!\n",
            "Покупаем? -> Дороговато\n",
            "Много теряете...\n",
            "В названии животного енот есть буква о\n",
            "Все хвостатые перечислены\n"
          ],
          "name": "stdout"
        }
      ]
    },
    {
      "cell_type": "markdown",
      "metadata": {
        "id": "Vx8MwNHu5tDx"
      },
      "source": [
        "***Список (list)***"
      ]
    },
    {
      "cell_type": "markdown",
      "metadata": {
        "id": "bMGzPHbo5xZ9"
      },
      "source": [
        "Среди наших коллег провели опрос о том, какие ассоциации вызывает каждое из времен года. Итог опроса показал среди топовых ассоциаций следующие:"
      ]
    },
    {
      "cell_type": "code",
      "metadata": {
        "id": "mb4tuJEO5keS"
      },
      "source": [
        "zima = 'снег' # Создаем переменную zima и записываем в нее значение 'снег'\n",
        "vesna = 'солнце' # Создаем переменную vesna и записываем в нее значение 'солнце'\n",
        "leto = 'фрукты' # Создаем переменную leto и записываем в нее значение 'фрукты' \n",
        "osen = 'листья' # Создаем переменную osen и записываем в нее значение 'листья'"
      ],
      "execution_count": null,
      "outputs": []
    },
    {
      "cell_type": "code",
      "metadata": {
        "id": "ZUHL-0X_5zVr",
        "colab": {
          "base_uri": "https://localhost:8080/"
        },
        "outputId": "00cf98e6-ae86-4394-f9da-7eba782dc5ea"
      },
      "source": [
        "associations = ['снег', 'солнце', 'фрукты', 'листья'] # Создаем список значений\n",
        "print(associations) # Вызываем функцию print, которая выводит значения списка associations"
      ],
      "execution_count": null,
      "outputs": [
        {
          "output_type": "stream",
          "text": [
            "['снег', 'солнце', 'фрукты', 'листья']\n"
          ],
          "name": "stdout"
        }
      ]
    },
    {
      "cell_type": "code",
      "metadata": {
        "colab": {
          "base_uri": "https://localhost:8080/"
        },
        "id": "SVCzGBx1WRAx",
        "outputId": "325b2c84-828c-405d-94a3-0e6f9df416b6"
      },
      "source": [
        "for association in associations:\n",
        "  print(association)"
      ],
      "execution_count": null,
      "outputs": [
        {
          "output_type": "stream",
          "text": [
            "снег\n",
            "солнце\n",
            "фрукты\n",
            "листья\n"
          ],
          "name": "stdout"
        }
      ]
    },
    {
      "cell_type": "code",
      "metadata": {
        "id": "T_bKp_Tx50qa",
        "colab": {
          "base_uri": "https://localhost:8080/"
        },
        "outputId": "b24353f6-13e5-48b2-9179-a51c1b5a37d6"
      },
      "source": [
        "a1 = list() # Создаем пустой список a1\n",
        "a2 = [] # Создаем пустой список a2\n",
        "print(a1) # Вызываем функцию print, которая выводит значения списка a1\n",
        "print(a2) # Вызываем функцию print, которая выводит значения списка a2"
      ],
      "execution_count": null,
      "outputs": [
        {
          "output_type": "stream",
          "text": [
            "[]\n",
            "[]\n"
          ],
          "name": "stdout"
        }
      ]
    },
    {
      "cell_type": "code",
      "metadata": {
        "id": "llfvo-Or53Og",
        "colab": {
          "base_uri": "https://localhost:8080/"
        },
        "outputId": "d47a1e38-691e-40b9-d23a-47f50f5fb2c4"
      },
      "source": [
        "my_list = [20, 'город', 0.45, True] # Создаем список из элементов различных типов\n",
        "print(my_list) # Вызываем функцию print, которая выводит значения списка my_list "
      ],
      "execution_count": null,
      "outputs": [
        {
          "output_type": "stream",
          "text": [
            "[20, 'город', 0.45, True]\n"
          ],
          "name": "stdout"
        }
      ]
    },
    {
      "cell_type": "code",
      "metadata": {
        "id": "ucXZzgqa55MS",
        "colab": {
          "base_uri": "https://localhost:8080/"
        },
        "outputId": "bd4d9f22-cd48-4ec3-b6bd-f82beaac8c7e"
      },
      "source": [
        "print(associations[0])  # Вызываем функцию print, которая выводит значение 0-го элемента списка associations"
      ],
      "execution_count": null,
      "outputs": [
        {
          "output_type": "stream",
          "text": [
            "снег\n"
          ],
          "name": "stdout"
        }
      ]
    },
    {
      "cell_type": "code",
      "metadata": {
        "colab": {
          "base_uri": "https://localhost:8080/"
        },
        "id": "nUa875UdWoY0",
        "outputId": "ef2b4383-2e9f-45fb-d5a8-032f4cf90023"
      },
      "source": [
        "print(associations[-1])  "
      ],
      "execution_count": null,
      "outputs": [
        {
          "output_type": "stream",
          "text": [
            "листья\n"
          ],
          "name": "stdout"
        }
      ]
    },
    {
      "cell_type": "code",
      "metadata": {
        "id": "pibECCVj5_-j",
        "colab": {
          "base_uri": "https://localhost:8080/"
        },
        "outputId": "7d23b5d8-21a1-4bc4-f6d0-b0cb69c386aa"
      },
      "source": [
        "for a in associations: # Создаем цикл for, в котором переменная a поочередно будет принимать значения из списка associations\n",
        "    print(a)  # Вызываем функцию print, которая выводит значение элемента списка associations с индексом a\n",
        "\n",
        "# альтернативный вариант\n",
        "print()\n",
        "for i in range(4): # Создаем цикл for, в котором переменная i поочередно будет принимать значения от 0 до 3\n",
        "    print(associations[i]) # Вызываем функцию print, которая выводит значение элемента списка associations с индексом i"
      ],
      "execution_count": null,
      "outputs": [
        {
          "output_type": "stream",
          "text": [
            "снег\n",
            "солнце\n",
            "фрукты\n",
            "листья\n",
            "\n",
            "снег\n",
            "солнце\n",
            "фрукты\n",
            "листья\n"
          ],
          "name": "stdout"
        }
      ]
    },
    {
      "cell_type": "code",
      "metadata": {
        "id": "YRpWXmjI6RvJ",
        "colab": {
          "base_uri": "https://localhost:8080/"
        },
        "outputId": "48874237-fc38-491b-946e-9f9f387fc337"
      },
      "source": [
        "associations = [['Зима', 'снег'], ['Весна', 'солнце'], ['Лето', 'фрукты'], ['Осень', 'листья']] # Создаем список, элементы которого также являются списками\n",
        "print(associations) # Вызываем функцию print, которая выводит список associations"
      ],
      "execution_count": null,
      "outputs": [
        {
          "output_type": "stream",
          "text": [
            "[['Зима', 'снег'], ['Весна', 'солнце'], ['Лето', 'фрукты'], ['Осень', 'листья']]\n"
          ],
          "name": "stdout"
        }
      ]
    },
    {
      "cell_type": "code",
      "metadata": {
        "colab": {
          "base_uri": "https://localhost:8080/"
        },
        "id": "jHpfKTTcW3-8",
        "outputId": "4cbeba38-2da4-4238-e495-4dcaacf77694"
      },
      "source": [
        "x = int(input('Введине индекс: '))\n",
        "print(associations[x])\n",
        "print('Время года:', associations[x][0])\n",
        "print('Ассоциация:', associations[x][1])"
      ],
      "execution_count": null,
      "outputs": [
        {
          "output_type": "stream",
          "text": [
            "Введине индекс: 2\n",
            "['Лето', 'фрукты']\n",
            "Время года: Лето\n",
            "Ассоциация: фрукты\n"
          ],
          "name": "stdout"
        }
      ]
    },
    {
      "cell_type": "code",
      "metadata": {
        "colab": {
          "base_uri": "https://localhost:8080/"
        },
        "id": "YiHxADWOYZcD",
        "outputId": "8332aacf-daae-419c-88e7-29f2e04a5cfa"
      },
      "source": [
        "associations.append(20)\n",
        "print(associations) "
      ],
      "execution_count": null,
      "outputs": [
        {
          "output_type": "stream",
          "text": [
            "[['Зима', 'снег'], ['Весна', 'солнце'], ['Лето', 'фрукты'], ['Осень', 'листья'], 20]\n"
          ],
          "name": "stdout"
        }
      ]
    },
    {
      "cell_type": "markdown",
      "metadata": {
        "id": "3auLMrzO6WoY"
      },
      "source": [
        "***Словарь (dict)***"
      ]
    },
    {
      "cell_type": "code",
      "metadata": {
        "id": "b73Ph2ne6Tim"
      },
      "source": [
        "my_dict = {'Зима' : 'снег',\n",
        "           'Весна' : 'солнце', \n",
        "           'Лето' : 'фрукты',\n",
        "           'Осень' : 'листья'\n",
        "          } # Создаем словарь"
      ],
      "execution_count": null,
      "outputs": []
    },
    {
      "cell_type": "code",
      "metadata": {
        "id": "cVj-cEn06dZn",
        "colab": {
          "base_uri": "https://localhost:8080/"
        },
        "outputId": "6e41001d-3572-497e-a897-d2ff48cb4941"
      },
      "source": [
        "print(my_dict) # Отображаем созданный словарь"
      ],
      "execution_count": null,
      "outputs": [
        {
          "output_type": "stream",
          "text": [
            "{'Зима': 'снег', 'Весна': 'солнце', 'Лето': 'фрукты', 'Осень': 'листья'}\n"
          ],
          "name": "stdout"
        }
      ]
    },
    {
      "cell_type": "code",
      "metadata": {
        "id": "qqhfKfrM6heq",
        "colab": {
          "base_uri": "https://localhost:8080/"
        },
        "outputId": "5d1fd212-3bc0-4d73-b8fb-8e464d44611e"
      },
      "source": [
        "my_dict.keys() # Вызываем метод .keys(), который вернет набор ключей словаря"
      ],
      "execution_count": null,
      "outputs": [
        {
          "output_type": "execute_result",
          "data": {
            "text/plain": [
              "dict_keys(['Зима', 'Весна', 'Лето', 'Осень'])"
            ]
          },
          "metadata": {
            "tags": []
          },
          "execution_count": 78
        }
      ]
    },
    {
      "cell_type": "code",
      "metadata": {
        "id": "Io9R2vng6jLK",
        "colab": {
          "base_uri": "https://localhost:8080/"
        },
        "outputId": "46b99f9d-136f-4c84-93eb-922da59d22f0"
      },
      "source": [
        "my_dict.values() # Вызываем метод .keys(), который вернет набор значений словаря"
      ],
      "execution_count": null,
      "outputs": [
        {
          "output_type": "execute_result",
          "data": {
            "text/plain": [
              "dict_values(['снег', 'солнце', 'фрукты', 'листья'])"
            ]
          },
          "metadata": {
            "tags": []
          },
          "execution_count": 79
        }
      ]
    },
    {
      "cell_type": "code",
      "metadata": {
        "id": "VAOaaors6kEF",
        "colab": {
          "base_uri": "https://localhost:8080/"
        },
        "outputId": "f3d6e978-dc04-4cce-bc81-e8d0f4830ab1"
      },
      "source": [
        "my_dict.items() # Вызываем метод .items(), который вернет набор пар: ключ-значение"
      ],
      "execution_count": null,
      "outputs": [
        {
          "output_type": "execute_result",
          "data": {
            "text/plain": [
              "dict_items([('Зима', 'снег'), ('Весна', 'солнце'), ('Лето', 'фрукты'), ('Осень', 'листья')])"
            ]
          },
          "metadata": {
            "tags": []
          },
          "execution_count": 84
        }
      ]
    },
    {
      "cell_type": "code",
      "metadata": {
        "id": "a4bTT8fj6lRT",
        "colab": {
          "base_uri": "https://localhost:8080/",
          "height": 35
        },
        "outputId": "af4dae20-09f0-4d67-f389-20943caadfad"
      },
      "source": [
        "my_dict['Зима'] # Получаем значение элемента словаря с ключом 'Зима'"
      ],
      "execution_count": null,
      "outputs": [
        {
          "output_type": "execute_result",
          "data": {
            "application/vnd.google.colaboratory.intrinsic+json": {
              "type": "string"
            },
            "text/plain": [
              "'снег'"
            ]
          },
          "metadata": {
            "tags": []
          },
          "execution_count": 83
        }
      ]
    },
    {
      "cell_type": "markdown",
      "metadata": {
        "id": "sbQCF6QE9TDK"
      },
      "source": [
        "# **Библиотека Numpy**"
      ]
    },
    {
      "cell_type": "markdown",
      "metadata": {
        "id": "hHL-CC_49jHV"
      },
      "source": [
        "NumPy - векторные/научные вычисления. Пакет содержит функциональные средства для работы с многомерными массивами и высокоуровневыми математическими функциями.\n",
        "\n",
        "Справочные материалы по numpy: https://pythonworld.ru/numpy"
      ]
    },
    {
      "cell_type": "code",
      "metadata": {
        "id": "50XjhGl76nKg"
      },
      "source": [
        "import numpy as np # Подключаем библиотеку numpy и задаем ей псевдоним np"
      ],
      "execution_count": null,
      "outputs": []
    },
    {
      "cell_type": "code",
      "metadata": {
        "id": "CdvbFBee9m55",
        "colab": {
          "base_uri": "https://localhost:8080/"
        },
        "outputId": "0212014d-1d4e-4b72-d4ec-66b636cf6f3c"
      },
      "source": [
        "my_list1 = [2, 4, 5] # Создаем переменную my_list1 и записываем в нее список из трех значений\n",
        "print('Исходный список:',my_list1) # Выводим на экран созданный список\n",
        "print('Тип переменной my_list1:',type(my_list1)) # Выводим на экран тип переменной my_list1"
      ],
      "execution_count": null,
      "outputs": [
        {
          "output_type": "stream",
          "text": [
            "Исходный список: [2, 4, 5]\n",
            "Тип переменной my_list1: <class 'list'>\n"
          ],
          "name": "stdout"
        }
      ]
    },
    {
      "cell_type": "code",
      "metadata": {
        "id": "HULumiAj9osZ",
        "colab": {
          "base_uri": "https://localhost:8080/"
        },
        "outputId": "fff50e4b-e3bb-4d8a-bc99-3856c4761ac3"
      },
      "source": [
        "my_numpy1 = np.array(my_list1) # Создаем numpy-массив из списка my_list1\n",
        "print('Сформированный массив:',my_numpy1) # Выводим на экран созданный numpy-массив\n",
        "print('Тип переменной my_numpy1:', type(my_numpy1)) # Выводим на экран тип переменной my_numpy1\n",
        "print('Тип элементов в массиве my_numpy1:', my_numpy1.dtype) # Выводим на экран тип элементов массива my_numpy1"
      ],
      "execution_count": null,
      "outputs": [
        {
          "output_type": "stream",
          "text": [
            "Сформированный массив: [2 4 5]\n",
            "Тип переменной my_numpy1: <class 'numpy.ndarray'>\n",
            "Тип элементов в массиве my_numpy1: int64\n"
          ],
          "name": "stdout"
        }
      ]
    },
    {
      "cell_type": "code",
      "metadata": {
        "id": "9n2V_NFg95_3",
        "colab": {
          "base_uri": "https://localhost:8080/"
        },
        "outputId": "f16124ac-5123-4eda-8b06-0ed47ea20e55"
      },
      "source": [
        "my_list2 = [2, 3.14, 'text data'] # Создаем переменную my_list2 и записываем в нее список из трех значений (типа int, типа float и типа str)\n",
        "my_numpy2 = np.array(my_list2) # Создаем numpy-массив из списка my_list3\n",
        "print('Исходный список:', my_list2) # Выводим на экран созданный список my_list3\n",
        "print('Сформированный массив:',my_numpy2) # Выводим на экран созданный массив my_numpy3\n",
        "print('Тип переменной my_numpy2:', my_numpy2.dtype) # Выводим на экран тип элементов массва my_numpy3"
      ],
      "execution_count": null,
      "outputs": [
        {
          "output_type": "stream",
          "text": [
            "Исходный список: [2, 3.14, 'text data']\n",
            "Сформированный массив: ['2' '3.14' 'text data']\n",
            "Тип переменной my_numpy2: <U32\n"
          ],
          "name": "stdout"
        }
      ]
    },
    {
      "cell_type": "code",
      "metadata": {
        "id": "qW2iD_vc-Bmm",
        "colab": {
          "base_uri": "https://localhost:8080/"
        },
        "outputId": "b814e132-295d-47cd-8da2-ef67df68e7c7"
      },
      "source": [
        "numpy_new3 = np.array([102,123,33,54,25,136]) # Создаем numpy-массив из списка цифр\n",
        "print(numpy_new3) # Выводим на экран массив numpy_new5"
      ],
      "execution_count": null,
      "outputs": [
        {
          "output_type": "stream",
          "text": [
            "[102 123  33  54  25 136]\n"
          ],
          "name": "stdout"
        }
      ]
    },
    {
      "cell_type": "code",
      "metadata": {
        "id": "O899G93z-TJF",
        "colab": {
          "base_uri": "https://localhost:8080/"
        },
        "outputId": "3c37d7f5-d3ff-4148-9155-fd2e4c6a487d"
      },
      "source": [
        "print(numpy_new3[0]) # Выводим на экран нулевой элемент массива numpy_new5\n",
        "print(numpy_new3[1]) # Выводим на экран первый элемент массива numpy_new5\n",
        "print(numpy_new3[-1]) # Выводим на экран последний (минус первый) элемент массива numpy_new5\n",
        "print(numpy_new3[:]) # Выводим на экран все элементы массива numpy_new5\n",
        "print(numpy_new3[1:]) # Выводим на экран все элементы массива numpy_new5, начиная с первого\n",
        "print(numpy_new3[:3]) # Выводим на экран с нулевого по третий элементы массива numpy_new5\n",
        "print(numpy_new3[-2:]) # Выводим на экран все элементы массива numpy_new5, начиная с предпоследнего\n",
        "print(numpy_new3[1:4]) # Выводим на экран с первого по четвертый элемент массива numpy_new5"
      ],
      "execution_count": null,
      "outputs": [
        {
          "output_type": "stream",
          "text": [
            "102\n",
            "123\n",
            "136\n",
            "[102 123  33  54  25 136]\n",
            "[123  33  54  25 136]\n",
            "[102 123  33]\n",
            "[ 25 136]\n",
            "[123  33  54]\n"
          ],
          "name": "stdout"
        }
      ]
    },
    {
      "cell_type": "code",
      "metadata": {
        "id": "cbHkQI8Y-bvp",
        "colab": {
          "base_uri": "https://localhost:8080/"
        },
        "outputId": "5764d8d1-6399-455b-e690-17958da1e685"
      },
      "source": [
        "print(numpy_new3 > 55) # Выводим маску массива numpy_new5 для условия: значение элемента больше 55"
      ],
      "execution_count": null,
      "outputs": [
        {
          "output_type": "stream",
          "text": [
            "[ True  True False False False  True]\n"
          ],
          "name": "stdout"
        }
      ]
    },
    {
      "cell_type": "code",
      "metadata": {
        "colab": {
          "base_uri": "https://localhost:8080/"
        },
        "id": "I-zE_Xvqawa5",
        "outputId": "b8a30a5a-4fab-4551-edad-70302424b2b1"
      },
      "source": [
        "print(numpy_new3[numpy_new3 > 55])"
      ],
      "execution_count": null,
      "outputs": [
        {
          "output_type": "stream",
          "text": [
            "[102 123 136]\n"
          ],
          "name": "stdout"
        }
      ]
    },
    {
      "cell_type": "code",
      "metadata": {
        "colab": {
          "base_uri": "https://localhost:8080/"
        },
        "id": "Rqgfg4YAa1Hj",
        "outputId": "6c65cde8-8693-408a-aedf-f59741ba2985"
      },
      "source": [
        "print(numpy_new3[numpy_new3 % 2 == 0])"
      ],
      "execution_count": null,
      "outputs": [
        {
          "output_type": "stream",
          "text": [
            "[102  54 136]\n"
          ],
          "name": "stdout"
        }
      ]
    },
    {
      "cell_type": "code",
      "metadata": {
        "id": "-Roy7d6h-hNc",
        "colab": {
          "base_uri": "https://localhost:8080/"
        },
        "outputId": "5412a69e-0e45-4926-84f3-e0519c7fb4b6"
      },
      "source": [
        "print(numpy_new3[(numpy_new3 > 25) & (numpy_new3 < 67)]) # Производим подвыборку элементов массива, значения которых больше 25 и меньше 67"
      ],
      "execution_count": null,
      "outputs": [
        {
          "output_type": "stream",
          "text": [
            "[33 54]\n"
          ],
          "name": "stdout"
        }
      ]
    },
    {
      "cell_type": "code",
      "metadata": {
        "id": "2Oh-mr_B-jf-",
        "colab": {
          "base_uri": "https://localhost:8080/"
        },
        "outputId": "ffc9640a-5fdc-459b-bde8-45345960380a"
      },
      "source": [
        "print('Сумма элементов массива равна: ',numpy_new3.sum()) # Выводим на экран сумму всех элементов массива numpy_array\n",
        "print('Произведение элементов массива равно: ',numpy_new3.prod()) # Выводим на экран произведение всех элементов массива numpy_array\n",
        "print('Среднее значение всех элементов массива равно: ',numpy_new3.mean()) # Выводим на экран среднее значение всех элементов массива numpy_array\n",
        "print('Максимальный элемент массива равен: ',numpy_new3.max()) # Выводим на экран максимальный элемент массива numpy_array\n",
        "print('Минимальный элемент массива равен: ',numpy_new3.min()) # Выводим на экран минимальный элемент массива numpy_array"
      ],
      "execution_count": null,
      "outputs": [
        {
          "output_type": "stream",
          "text": [
            "Сумма элементов массива равна:  473\n",
            "Произведение элементов массива равно:  76013704800\n",
            "Среднее значение всех элементов массива равно:  78.83333333333333\n",
            "Максимальный элемент массива равен:  136\n",
            "Минимальный элемент массива равен:  25\n"
          ],
          "name": "stdout"
        }
      ]
    },
    {
      "cell_type": "code",
      "metadata": {
        "id": "s67U_pdw-vqI",
        "colab": {
          "base_uri": "https://localhost:8080/"
        },
        "outputId": "84628b42-5c80-406d-9fb2-b9087a6fad6a"
      },
      "source": [
        "my_list1 = [0,1,2,3,4,5] # Создаем список из 5 элементов\n",
        "my_list2 = [6,7,8,9,10,11] # Создаем еще один список также из 5 элементов\n",
        "my_numpy1 = np.array(my_list1) # Создаем массив из списка my_list1\n",
        "my_numpy2 = np.array(my_list2) # Создаем массив из списка my_list2\n",
        "print(my_list1 + my_list2) # Выводим результат сложения двух списков\n",
        "print(my_numpy1 + my_numpy2) # Выводим результат сложения двух массивов"
      ],
      "execution_count": null,
      "outputs": [
        {
          "output_type": "stream",
          "text": [
            "[0, 1, 2, 3, 4, 5, 6, 7, 8, 9, 10, 11]\n",
            "[ 6  8 10 12 14 16]\n"
          ],
          "name": "stdout"
        }
      ]
    },
    {
      "cell_type": "code",
      "metadata": {
        "id": "upwSOk2N_MiR",
        "colab": {
          "base_uri": "https://localhost:8080/"
        },
        "outputId": "d430fa9d-48e3-4ee2-c02c-cee0137595aa"
      },
      "source": [
        "print(my_numpy1 - my_numpy2) # Выводим разность двух массивов\n",
        "print(my_numpy1 / my_numpy2) # Выводим частное двух массивов\n",
        "print(my_numpy1 * my_numpy2) # поэлементное умножение двух массивов\n",
        "print(my_numpy1 ** my_numpy2) # поэлементное возведение в степень"
      ],
      "execution_count": null,
      "outputs": [
        {
          "output_type": "stream",
          "text": [
            "[-6 -6 -6 -6 -6 -6]\n",
            "[0.         0.14285714 0.25       0.33333333 0.4        0.45454545]\n",
            "[ 0  7 16 27 40 55]\n",
            "[       0        1      256    19683  1048576 48828125]\n"
          ],
          "name": "stdout"
        }
      ]
    },
    {
      "cell_type": "code",
      "metadata": {
        "id": "vraUSBEC_PU7",
        "colab": {
          "base_uri": "https://localhost:8080/",
          "height": 163
        },
        "outputId": "3dd2eea0-3bca-4098-a66c-1c202ba30e5d"
      },
      "source": [
        "print(my_list1 - my_list2) # Попробуем вывести разность двух списков"
      ],
      "execution_count": null,
      "outputs": [
        {
          "output_type": "error",
          "ename": "TypeError",
          "evalue": "ignored",
          "traceback": [
            "\u001b[0;31m---------------------------------------------------------------------------\u001b[0m",
            "\u001b[0;31mTypeError\u001b[0m                                 Traceback (most recent call last)",
            "\u001b[0;32m<ipython-input-51-90b547f5c99f>\u001b[0m in \u001b[0;36m<module>\u001b[0;34m()\u001b[0m\n\u001b[0;32m----> 1\u001b[0;31m \u001b[0mprint\u001b[0m\u001b[0;34m(\u001b[0m\u001b[0mmy_list1\u001b[0m \u001b[0;34m-\u001b[0m \u001b[0mmy_list2\u001b[0m\u001b[0;34m)\u001b[0m \u001b[0;31m# Выводим рвзность двух списков\u001b[0m\u001b[0;34m\u001b[0m\u001b[0;34m\u001b[0m\u001b[0m\n\u001b[0m",
            "\u001b[0;31mTypeError\u001b[0m: unsupported operand type(s) for -: 'list' and 'list'"
          ]
        }
      ]
    },
    {
      "cell_type": "code",
      "metadata": {
        "id": "muBccOpP_QXB",
        "colab": {
          "base_uri": "https://localhost:8080/"
        },
        "outputId": "d15c7f25-f82b-44e9-fa30-4a2a22743a4d"
      },
      "source": [
        "# создаем двумерный массив\n",
        "my_2d_array = np.array([[3, 6, 2, 7],\n",
        "                        [9, 2, 4, 8],\n",
        "                        [8, 2, 3, 6]])\n",
        "\n",
        "print(my_2d_array)"
      ],
      "execution_count": null,
      "outputs": [
        {
          "output_type": "stream",
          "text": [
            "[[3 6 2 7]\n",
            " [9 2 4 8]\n",
            " [8 2 3 6]]\n"
          ],
          "name": "stdout"
        }
      ]
    },
    {
      "cell_type": "code",
      "metadata": {
        "id": "_u9rweS5_h7u",
        "colab": {
          "base_uri": "https://localhost:8080/"
        },
        "outputId": "250fd788-ee61-44ec-f351-e58e7475f49f"
      },
      "source": [
        "# создаем трехмерный массив\n",
        "my_3d_array = np.array([[[3, 6, 2, 7],\n",
        "                        [9, 2, 4, 8],\n",
        "                        [8, 2, 3, 6]],\n",
        "                        [[3, 6, 2, 7],\n",
        "                        [9, 2, 4, 8],\n",
        "                        [8, 2, 3, 6]]])\n",
        "\n",
        "print(my_3d_array)"
      ],
      "execution_count": null,
      "outputs": [
        {
          "output_type": "stream",
          "text": [
            "[[[3 6 2 7]\n",
            "  [9 2 4 8]\n",
            "  [8 2 3 6]]\n",
            "\n",
            " [[3 6 2 7]\n",
            "  [9 2 4 8]\n",
            "  [8 2 3 6]]]\n"
          ],
          "name": "stdout"
        }
      ]
    },
    {
      "cell_type": "code",
      "metadata": {
        "id": "Z4dfNUTN_ktY",
        "colab": {
          "base_uri": "https://localhost:8080/"
        },
        "outputId": "8b139dad-e81f-430c-d6ed-dda6b73e690d"
      },
      "source": [
        "print(my_2d_array.shape) # Выводим на экран размерность массива my_2d_array\n",
        "print(my_3d_array.shape) # Выводим на экран размерность массива my_3d_array"
      ],
      "execution_count": null,
      "outputs": [
        {
          "output_type": "stream",
          "text": [
            "(3, 4)\n",
            "(2, 3, 4)\n"
          ],
          "name": "stdout"
        }
      ]
    },
    {
      "cell_type": "code",
      "metadata": {
        "id": "Qsgg1_La_lyY",
        "colab": {
          "base_uri": "https://localhost:8080/"
        },
        "outputId": "e933ed57-e8d5-4184-a9ba-50cd63fbdaa1"
      },
      "source": [
        "# кол-во элементов массива\n",
        "print(my_2d_array.size) # Выводим на экран количество элементов массива my_2d_array\n",
        "print(my_3d_array.size) # Выводим на экран количество элементов массива my_3d_array"
      ],
      "execution_count": null,
      "outputs": [
        {
          "output_type": "stream",
          "text": [
            "12\n",
            "24\n"
          ],
          "name": "stdout"
        }
      ]
    },
    {
      "cell_type": "code",
      "metadata": {
        "colab": {
          "base_uri": "https://localhost:8080/"
        },
        "id": "wOBcN1XRbuWq",
        "outputId": "c621b54d-c374-4e69-961a-b1cb10d6dd1a"
      },
      "source": [
        "print(my_2d_array[0,0])\n",
        "print(my_2d_array[0,:])\n",
        "print(my_2d_array[:,0])"
      ],
      "execution_count": null,
      "outputs": [
        {
          "output_type": "stream",
          "text": [
            "3\n",
            "[3 6 2 7]\n",
            "[3 9 8]\n"
          ],
          "name": "stdout"
        }
      ]
    },
    {
      "cell_type": "code",
      "metadata": {
        "colab": {
          "base_uri": "https://localhost:8080/"
        },
        "id": "Ci9kPTE9b5SR",
        "outputId": "022199a4-4e58-4b0b-fed0-7457b6ee437a"
      },
      "source": [
        "print(my_2d_array[my_2d_array > 5])"
      ],
      "execution_count": null,
      "outputs": [
        {
          "output_type": "stream",
          "text": [
            "[6 7 9 8 8 6]\n"
          ],
          "name": "stdout"
        }
      ]
    },
    {
      "cell_type": "markdown",
      "metadata": {
        "id": "820GGRu0CohO"
      },
      "source": [
        "# **Библиотека Matplotlib**"
      ]
    },
    {
      "cell_type": "markdown",
      "metadata": {
        "id": "8GLwcgvAC0NN"
      },
      "source": [
        "<a href=\"http://matplotlib.org/\">matplotlib</a> - библиотека для визуализации данных, в основном двухмерная графика.\n",
        "\n",
        "<a href=\"https://pythonworld.ru/novosti-mira-python/scientific-graphics-in-python.html\">matplotlib на русском</a>"
      ]
    },
    {
      "cell_type": "code",
      "metadata": {
        "id": "btOp6Rc6CB0P"
      },
      "source": [
        "import matplotlib.pyplot as plt # Подключаем модуль pyplot библиотеки matplotlib и задаем псевдоним plt\n",
        "from seaborn import set_style\n",
        "%matplotlib inline"
      ],
      "execution_count": null,
      "outputs": []
    },
    {
      "cell_type": "code",
      "metadata": {
        "id": "2bnYBvxuEHvd"
      },
      "source": [
        "set_style('darkgrid') # Установим стиль графиков"
      ],
      "execution_count": null,
      "outputs": []
    },
    {
      "cell_type": "code",
      "metadata": {
        "id": "xVIc98uAC1Lr",
        "colab": {
          "base_uri": "https://localhost:8080/"
        },
        "outputId": "87bea49a-6617-49c2-bc61-0445a83f5b08"
      },
      "source": [
        "import numpy as np # Подключаем библиотеку numpy\n",
        "x = np.linspace(0,15,101) # Генерируем последовательность из 101 числа равнораспределенных в интервале от 0 до 15\n",
        "print(x.shape) # Выводим размерность сформированного массива\n",
        "print(x) # Выводим сам массив"
      ],
      "execution_count": null,
      "outputs": [
        {
          "output_type": "stream",
          "text": [
            "(101,)\n",
            "[ 0.    0.15  0.3   0.45  0.6   0.75  0.9   1.05  1.2   1.35  1.5   1.65\n",
            "  1.8   1.95  2.1   2.25  2.4   2.55  2.7   2.85  3.    3.15  3.3   3.45\n",
            "  3.6   3.75  3.9   4.05  4.2   4.35  4.5   4.65  4.8   4.95  5.1   5.25\n",
            "  5.4   5.55  5.7   5.85  6.    6.15  6.3   6.45  6.6   6.75  6.9   7.05\n",
            "  7.2   7.35  7.5   7.65  7.8   7.95  8.1   8.25  8.4   8.55  8.7   8.85\n",
            "  9.    9.15  9.3   9.45  9.6   9.75  9.9  10.05 10.2  10.35 10.5  10.65\n",
            " 10.8  10.95 11.1  11.25 11.4  11.55 11.7  11.85 12.   12.15 12.3  12.45\n",
            " 12.6  12.75 12.9  13.05 13.2  13.35 13.5  13.65 13.8  13.95 14.1  14.25\n",
            " 14.4  14.55 14.7  14.85 15.  ]\n"
          ],
          "name": "stdout"
        }
      ]
    },
    {
      "cell_type": "code",
      "metadata": {
        "id": "IU_rew5DC8Ml",
        "colab": {
          "base_uri": "https://localhost:8080/"
        },
        "outputId": "1def0891-a8ff-440a-925d-4ead6b1958df"
      },
      "source": [
        "plt.plot(x) # Визуализируем график\n",
        "plt.show()  # Фиксируем вывод"
      ],
      "execution_count": null,
      "outputs": [
        {
          "output_type": "display_data",
          "data": {
            "image/png": "[encoded data removed]",
            "text/plain": [
              "<Figure size 432x288 with 1 Axes>"
            ]
          },
          "metadata": {
            "tags": []
          }
        }
      ]
    },
    {
      "cell_type": "code",
      "metadata": {
        "id": "cguuQWl5C9rm",
        "colab": {
          "base_uri": "https://localhost:8080/"
        },
        "outputId": "fc895b4a-26a5-4fb1-b27c-9e13e5191288"
      },
      "source": [
        "y = np.cos(x) # Задаем значения, соответсвующие функции косинус\n",
        "print(y) # Выводим сформированный массив y\n",
        "plt.plot(y) # Визуализируем график\n",
        "plt.show() # Фиксируем график"
      ],
      "execution_count": null,
      "outputs": [
        {
          "output_type": "stream",
          "text": [
            "[ 1.          0.98877108  0.95533649  0.9004471   0.82533561  0.73168887\n",
            "  0.62160997  0.49757105  0.36235775  0.21900669  0.0707372  -0.07912089\n",
            " -0.22720209 -0.37018083 -0.5048461  -0.62817362 -0.73739372 -0.83005354\n",
            " -0.90407214 -0.95778724 -0.9899925  -0.99996466 -0.98747977 -0.95281821\n",
            " -0.89675842 -0.82055936 -0.7259323  -0.61500238 -0.49026082 -0.35450907\n",
            " -0.2107958  -0.06234851  0.08749898  0.23538144  0.37797774  0.51208548\n",
            "  0.63469288  0.74304644  0.83471278  0.90763328  0.96017029  0.99114394\n",
            "  0.99985864  0.98611866  0.95023259  0.89300634  0.8157251   0.72012443\n",
            "  0.60835131  0.48291594  0.34663532  0.20257001  0.05395542 -0.09587089\n",
            " -0.24354415 -0.38574794 -0.51928865 -0.64116727 -0.74864665 -0.83931303\n",
            " -0.91113026 -0.96248547 -0.99222533 -0.99968194 -0.98468786 -0.9475798\n",
            " -0.88919115 -0.81083318 -0.71426565 -0.60165725 -0.47553693 -0.33873707\n",
            " -0.19432991 -0.04555851  0.10423603  0.25168965  0.39349087  0.52645513\n",
            "  0.64759634  0.75419393  0.84385396  0.91456284  0.96473262  0.99323658\n",
            "  0.99943459  0.98318745  0.94486004  0.88531311  0.80588396  0.70835639\n",
            "  0.59492066  0.4681243   0.33081488  0.18607607  0.03715838 -0.11259379\n",
            " -0.25981736 -0.40120598 -0.53358439 -0.65397964 -0.75968791]\n"
          ],
          "name": "stdout"
        },
        {
          "output_type": "display_data",
          "data": {
            "image/png": "[encoded data removed]",
            "text/plain": [
              "<Figure size 432x288 with 1 Axes>"
            ]
          },
          "metadata": {
            "tags": []
          }
        }
      ]
    },
    {
      "cell_type": "code",
      "metadata": {
        "id": "47JmzjDuC_3f",
        "colab": {
          "base_uri": "https://localhost:8080/"
        },
        "outputId": "56ff89e1-5df9-4f83-f4c1-1ddb916a3c6c"
      },
      "source": [
        "plt.plot(x, y)  # Визуализируем график, указав обе оси\n",
        "plt.show() # Фиксируем график"
      ],
      "execution_count": null,
      "outputs": [
        {
          "output_type": "display_data",
          "data": {
            "image/png": "[encoded data removed]",
            "text/plain": [
              "<Figure size 432x288 with 1 Axes>"
            ]
          },
          "metadata": {
            "tags": []
          }
        }
      ]
    },
    {
      "cell_type": "code",
      "metadata": {
        "id": "uSUL-LQ4DDUl",
        "colab": {
          "base_uri": "https://localhost:8080/"
        },
        "outputId": "24e5cc18-af16-4ece-df51-4a7a252a32d4"
      },
      "source": [
        "plt.plot(x, y) # Визуализируем график, указав обе оси\n",
        "plt.title('cos(x)') # Задаем название графика\n",
        "plt.xlabel('ось X') # Задаем название оси X\n",
        "plt.ylabel('ось Y') # Задаем название оси Y\n",
        "plt.show() # Фиксируем график"
      ],
      "execution_count": null,
      "outputs": [
        {
          "output_type": "display_data",
          "data": {
            "image/png": "[encoded data removed]",
            "text/plain": [
              "<Figure size 432x288 with 1 Axes>"
            ]
          },
          "metadata": {
            "tags": []
          }
        }
      ]
    },
    {
      "cell_type": "code",
      "metadata": {
        "id": "nD8A0ZfIDFHS",
        "colab": {
          "base_uri": "https://localhost:8080/"
        },
        "outputId": "cef728da-3d7a-4119-bd3a-73fd95342f8d"
      },
      "source": [
        "z = np.sin(x) / 2 # Задаем функцию sin(x)/2\n",
        "plt.plot(x, y, label='cos(x)') # Визуализируем график для значения y (и задаем ему название (легенду))\n",
        "plt.plot(x, z, label='sin(x)/2') # Визуализируем график для значения z (и задаем ему название (легенду))\n",
        "plt.title('sin(x)/2 и cos(x)') # Задаем название графика\n",
        "plt.xlabel('ось X') # ось х\n",
        "plt.ylabel('Y, Z') # ось y,z\n",
        "plt.legend() # Вызываем отображение легенды на графике\n",
        "plt.show() # Фиксируем график"
      ],
      "execution_count": null,
      "outputs": [
        {
          "output_type": "display_data",
          "data": {
            "image/png": "[encoded data removed]",
            "text/plain": [
              "<Figure size 432x288 with 1 Axes>"
            ]
          },
          "metadata": {
            "tags": []
          }
        }
      ]
    },
    {
      "cell_type": "code",
      "metadata": {
        "id": "8jpwJ6pzDG1O",
        "colab": {
          "base_uri": "https://localhost:8080/"
        },
        "outputId": "ace12e34-0f0b-4b77-8980-cf87d7666baa"
      },
      "source": [
        "plt.figure(figsize=(12,4)) # Указываем размер графика \n",
        "plt.plot(x, y, label='cos(x)', c='b') # Визуализируем график для значения y, задаем ему название (легенду) и указываем цвет\n",
        "plt.plot(x, z, label='sin(x)/2', c ='g') # Визуализируем график для значения z, задаем ему название (легенду) и указываем цвет\n",
        "plt.plot(x, 4*z, label='2 * sin(x)') # Визуализируем график для значения 4*z, задаем ему название (легенду) и указываем цвет\n",
        "plt.title('Синусоиды') # Задаем название графика\n",
        "plt.xlabel('ось X') # ось х\n",
        "plt.ylabel('Y, Z, 4Z') # ось y,z, 4z\n",
        "plt.legend() # Вызываем отображение легенды на графике\n",
        "plt.show() # Фиксируем график"
      ],
      "execution_count": null,
      "outputs": [
        {
          "output_type": "display_data",
          "data": {
            "image/png": "[encoded data removed]",
            "text/plain": [
              "<Figure size 864x288 with 1 Axes>"
            ]
          },
          "metadata": {
            "tags": []
          }
        }
      ]
    },
    {
      "cell_type": "code",
      "metadata": {
        "id": "xl213ULpDK1M",
        "colab": {
          "base_uri": "https://localhost:8080/"
        },
        "outputId": "6aec9927-7983-4e24-e221-0c912ce7f6ba"
      },
      "source": [
        "# рисуем график\n",
        "plt.figure(figsize=(15,6))\n",
        "plt.plot(x, z, 'c--') # для прерывистой голубой линии указываем параметр 'c--'\n",
        "plt.title('0.5 sin(x)')\n",
        "plt.xlabel('х')\n",
        "plt.ylabel('y')\n",
        "plt.show()"
      ],
      "execution_count": null,
      "outputs": [
        {
          "output_type": "display_data",
          "data": {
            "image/png": "[encoded data removed]",
            "text/plain": [
              "<Figure size 1080x432 with 1 Axes>"
            ]
          },
          "metadata": {
            "tags": []
          }
        }
      ]
    },
    {
      "cell_type": "code",
      "metadata": {
        "id": "u7ZTmZdrDOnf",
        "colab": {
          "base_uri": "https://localhost:8080/"
        },
        "outputId": "588da71f-2e10-44fd-81a0-b31b7d707804"
      },
      "source": [
        "# рисуем график\n",
        "plt.figure(figsize=(15,6))\n",
        "plt.plot(x, z, 'y*') # для вывода желтыми звездочками 'y*'\n",
        "plt.title('0.5 sin(x)')\n",
        "plt.xlabel('х')\n",
        "plt.ylabel('y')\n",
        "plt.show()"
      ],
      "execution_count": null,
      "outputs": [
        {
          "output_type": "display_data",
          "data": {
            "image/png": "[encoded data removed]",
            "text/plain": [
              "<Figure size 1080x432 with 1 Axes>"
            ]
          },
          "metadata": {
            "tags": []
          }
        }
      ]
    },
    {
      "cell_type": "markdown",
      "metadata": {
        "id": "jz1zCV-GDVT-"
      },
      "source": [
        "***диаграмма***"
      ]
    },
    {
      "cell_type": "code",
      "metadata": {
        "id": "gCNmZSd-DQ_h",
        "colab": {
          "base_uri": "https://localhost:8080/"
        },
        "outputId": "68d1a83a-98c2-482f-c0c3-8d7e4d860d14"
      },
      "source": [
        "x = np.arange(5)\n",
        "height = [20, 23, 25, 24, 26]\n",
        "# строим диаграмму\n",
        "plt.figure(figsize=(10,6))\n",
        "plt.bar(x, height, align='center', color='r', linewidth = 2) # align - выравнивание стержней по координатам х\n",
        "                                                              # linewidth - ширина стержней\n",
        "\n",
        "plt.title('Продажи товара Х по месяцам')\n",
        "\n",
        "plt.ylabel('млн руб.') # подпись по оси y\n",
        "plt.xticks(x, ['Январь', 'Февраль', 'Март', 'Апрель', 'Май'])\n",
        "plt.show()"
      ],
      "execution_count": null,
      "outputs": [
        {
          "output_type": "display_data",
          "data": {
            "image/png": "[encoded data removed]",
            "text/plain": [
              "<Figure size 720x432 with 1 Axes>"
            ]
          },
          "metadata": {
            "tags": []
          }
        }
      ]
    },
    {
      "cell_type": "markdown",
      "metadata": {
        "id": "jRGISdUZDYxj"
      },
      "source": [
        "***гистограмма***"
      ]
    },
    {
      "cell_type": "code",
      "metadata": {
        "id": "jzGxT2z-DW3W",
        "colab": {
          "base_uri": "https://localhost:8080/",
          "height": 516
        },
        "outputId": "aa245a75-e79e-4b0e-b5f7-862acbd5f365"
      },
      "source": [
        "x = np.random.normal(0, 1, 10000)\n",
        "print(x.shape)\n",
        "\n",
        "plt.figure(figsize=(15,8))\n",
        "plt.hist(x, bins=20, color='b') # параметр bins отвечает за количество подгрупп, в которые объединяются данные\n",
        "plt.title('Гистограмма распределения значений в массиве х')\n",
        "plt.show()"
      ],
      "execution_count": null,
      "outputs": [
        {
          "output_type": "stream",
          "text": [
            "(10000,)\n"
          ],
          "name": "stdout"
        },
        {
          "output_type": "display_data",
          "data": {
            "image/png": "[encoded data removed]",
            "text/plain": [
              "<Figure size 1080x576 with 1 Axes>"
            ]
          },
          "metadata": {
            "tags": []
          }
        }
      ]
    },
    {
      "cell_type": "code",
      "metadata": {
        "colab": {
          "base_uri": "https://localhost:8080/"
        },
        "id": "CbFfJyscfw2l",
        "outputId": "c14f7fe7-8d5a-42fb-f5d8-34be0133138a"
      },
      "source": [
        "def my_func(x):\n",
        "  return 2*x\n",
        "\n",
        "print(my_func(10))"
      ],
      "execution_count": null,
      "outputs": [
        {
          "output_type": "stream",
          "text": [
            "20\n"
          ],
          "name": "stdout"
        }
      ]
    },
    {
      "cell_type": "markdown",
      "metadata": {
        "id": "sLjZxuqPEerp"
      },
      "source": [
        "# **ПРАКТИКА**"
      ]
    },
    {
      "cell_type": "markdown",
      "metadata": {
        "id": "ekqmsBwXE5JB"
      },
      "source": [
        "В качестве практической задачи возьмем базу, содержащую резюме с HeadHinter'a.\n",
        "\n",
        "Используя изученные средства, проведем анализ данный базы"
      ]
    },
    {
      "cell_type": "code",
      "metadata": {
        "id": "2YMJfaHTML1P",
        "colab": {
          "base_uri": "https://localhost:8080/",
          "height": 35
        },
        "outputId": "37635af5-b39c-4d78-cb9a-f282496f1755"
      },
      "source": [
        "# Загрузка базы hh \n",
        "import importlib.util, sys, gdown\n",
        "url = 'https://drive.google.com/uc?export=download&confirm=no_antivirus&id=1rJ244RrkGpKz-nvTXJ7wUt3jqjZSFhtZ' # Указываем URL-файла\n",
        "output = 'hh_parsed_new.csv' # Указываем имя файла, в который сохраняем файл\n",
        "gdown.download(url, output, quiet=True) # Скачиваем файл по указанному URL"
      ],
      "execution_count": null,
      "outputs": [
        {
          "output_type": "execute_result",
          "data": {
            "application/vnd.google.colaboratory.intrinsic+json": {
              "type": "string"
            },
            "text/plain": [
              "'hh_parsed_new.csv'"
            ]
          },
          "metadata": {
            "tags": []
          },
          "execution_count": 123
        }
      ]
    },
    {
      "cell_type": "code",
      "metadata": {
        "id": "gx9pZAh0DaXu",
        "colab": {
          "base_uri": "https://localhost:8080/",
          "height": 306
        },
        "outputId": "ef9be224-27ef-46fa-d187-ee9c57e690ab"
      },
      "source": [
        "import pandas as pd # Загружаем библиотеку pandas для работы с табличными данными\n",
        "hh_df = pd.read_csv('hh_parsed_new.csv') # Загружаем файл базы в датафрейм\n",
        "hh_df.head() # Выводим датафрейм"
      ],
      "execution_count": null,
      "outputs": [
        {
          "output_type": "execute_result",
          "data": {
            "text/html": [
              "<div>\n",
              "<style scoped>\n",
              "    .dataframe tbody tr th:only-of-type {\n",
              "        vertical-align: middle;\n",
              "    }\n",
              "\n",
              "    .dataframe tbody tr th {\n",
              "        vertical-align: top;\n",
              "    }\n",
              "\n",
              "    .dataframe thead th {\n",
              "        text-align: right;\n",
              "    }\n",
              "</style>\n",
              "<table border=\"1\" class=\"dataframe\">\n",
              "  <thead>\n",
              "    <tr style=\"text-align: right;\">\n",
              "      <th></th>\n",
              "      <th>Пол</th>\n",
              "      <th>Возраст</th>\n",
              "      <th>ЗП</th>\n",
              "      <th>Город</th>\n",
              "      <th>Занятость</th>\n",
              "      <th>График</th>\n",
              "      <th>Опыт (двойное нажатие для полной версии)</th>\n",
              "      <th>Образование и ВУЗ</th>\n",
              "      <th>Ищет работу на должность</th>\n",
              "    </tr>\n",
              "  </thead>\n",
              "  <tbody>\n",
              "    <tr>\n",
              "      <th>0</th>\n",
              "      <td>М</td>\n",
              "      <td>44</td>\n",
              "      <td>27000.0</td>\n",
              "      <td>малый или за пределами России город</td>\n",
              "      <td>полная занятость</td>\n",
              "      <td>полный день</td>\n",
              "      <td>73</td>\n",
              "      <td>среднее специальное</td>\n",
              "      <td>Старший администратор</td>\n",
              "    </tr>\n",
              "    <tr>\n",
              "      <th>1</th>\n",
              "      <td>М</td>\n",
              "      <td>42</td>\n",
              "      <td>60000.0</td>\n",
              "      <td>малый или за пределами России город</td>\n",
              "      <td>частичная занятость, полная занятость</td>\n",
              "      <td>гибкий график, полный день</td>\n",
              "      <td>230</td>\n",
              "      <td>высшее</td>\n",
              "      <td>Старший IT инженер</td>\n",
              "    </tr>\n",
              "    <tr>\n",
              "      <th>2</th>\n",
              "      <td>М</td>\n",
              "      <td>45</td>\n",
              "      <td>65000.0</td>\n",
              "      <td>малый или за пределами России город</td>\n",
              "      <td>полная занятость</td>\n",
              "      <td>полный день, удаленная работа</td>\n",
              "      <td>237</td>\n",
              "      <td>высшее</td>\n",
              "      <td>Системный администратор, Системный инженер</td>\n",
              "    </tr>\n",
              "    <tr>\n",
              "      <th>3</th>\n",
              "      <td>М</td>\n",
              "      <td>44</td>\n",
              "      <td>70000.0</td>\n",
              "      <td>Москва</td>\n",
              "      <td>полная занятость</td>\n",
              "      <td>гибкий график, полный день, удаленная работа</td>\n",
              "      <td>69</td>\n",
              "      <td>высшее</td>\n",
              "      <td>Web-программист, Web-администратор, Web-мастер</td>\n",
              "    </tr>\n",
              "    <tr>\n",
              "      <th>4</th>\n",
              "      <td>М</td>\n",
              "      <td>41</td>\n",
              "      <td>45000.0</td>\n",
              "      <td>малый или за пределами России город</td>\n",
              "      <td>частичная занятость, полная занятость</td>\n",
              "      <td>полный день, сменный график</td>\n",
              "      <td>161</td>\n",
              "      <td>высшее</td>\n",
              "      <td>Старший системный администратор \\ начальник от...</td>\n",
              "    </tr>\n",
              "  </tbody>\n",
              "</table>\n",
              "</div>"
            ],
            "text/plain": [
              "  Пол  ...                           Ищет работу на должность\n",
              "0   М  ...                              Старший администратор\n",
              "1   М  ...                                 Старший IT инженер\n",
              "2   М  ...         Системный администратор, Системный инженер\n",
              "3   М  ...     Web-программист, Web-администратор, Web-мастер\n",
              "4   М  ...  Старший системный администратор \\ начальник от...\n",
              "\n",
              "[5 rows x 9 columns]"
            ]
          },
          "metadata": {
            "tags": []
          },
          "execution_count": 125
        }
      ]
    },
    {
      "cell_type": "code",
      "metadata": {
        "id": "woryL56Prlbj"
      },
      "source": [
        "Пол = hh_df['Пол'].values # Сохраняем данные из столбца \"пол\" в переменную пол\n",
        "Возраст = hh_df['Возраст'].values # Сохраняем данные из столбца \"Возраст\" в переменную Возраст\n",
        "ЗП = hh_df['ЗП'].values # Сохраняем данные из столбца \"ЗП\" в переменную ЗП\n",
        "Город = hh_df['Город'].values # Сохраняем данные из столбца \"Город\" в переменную Город\n",
        "Занятость = hh_df['Занятость'].values # Сохраняем данные из столбца \"Занятость\" в переменную Занятость\n",
        "Опыт = hh_df['Опыт (двойное нажатие для полной версии)'].values # Сохраняем данные из столбца \"Опыт (двойное нажатие для полной версии)\" в переменную Опыт\n",
        "Профессия = hh_df['Ищет работу на должность'].values # Сохраняем данные из столбца \"Опыт (двойное нажатие для полной версии)\" в переменную Опыт"
      ],
      "execution_count": null,
      "outputs": []
    },
    {
      "cell_type": "markdown",
      "metadata": {
        "id": "iwlXO1YRMVDH"
      },
      "source": [
        "***Гистограмма возрастов***"
      ]
    },
    {
      "cell_type": "code",
      "metadata": {
        "colab": {
          "base_uri": "https://localhost:8080/",
          "height": 390
        },
        "id": "4aorMeLZMZt2",
        "outputId": "7aae07bc-f8c3-4e94-c931-cef3d5002ebc"
      },
      "source": [
        "plt.figure(figsize=(14,6)) # Устанавливаем размер графика\n",
        "age = Возраст[(Возраст > 0) & (Возраст < 70)] # Оставляем только те данные, значения котоырх больше 0 и меньше 70\n",
        "plt.hist(age, bins=55) # Выводим гистограмму\n",
        "plt.title('Гистограмма распределения возрастов') # Задаем название графика\n",
        "plt.show()"
      ],
      "execution_count": null,
      "outputs": [
        {
          "output_type": "display_data",
          "data": {
            "image/png": "[encoded data removed]",
            "text/plain": [
              "<Figure size 1008x432 with 1 Axes>"
            ]
          },
          "metadata": {
            "tags": []
          }
        }
      ]
    },
    {
      "cell_type": "markdown",
      "metadata": {
        "id": "1HFi08nHPLEr"
      },
      "source": [
        "***Гистограмма опыта работы***"
      ]
    },
    {
      "cell_type": "code",
      "metadata": {
        "id": "tFg_Kg5YFXVr",
        "colab": {
          "base_uri": "https://localhost:8080/",
          "height": 390
        },
        "outputId": "5db3c501-207a-4c04-b490-f68c273557e6"
      },
      "source": [
        "plt.figure(figsize=(14,6)) # Устанавливаем размер графика\n",
        "Exp = Опыт[Опыт < 480] # Оставляем только те данные, значения котоырх менее 360 (30 лет)\n",
        "plt.hist(Exp, bins=60) # Выводим гистограмму\n",
        "plt.title('Гистограмма распределения опыта работы') # Задаем название графика\n",
        "plt.show()"
      ],
      "execution_count": null,
      "outputs": [
        {
          "output_type": "display_data",
          "data": {
            "image/png": "[encoded data removed]",
            "text/plain": [
              "<Figure size 1008x432 with 1 Axes>"
            ]
          },
          "metadata": {
            "tags": []
          }
        }
      ]
    },
    {
      "cell_type": "markdown",
      "metadata": {
        "id": "ydXTi_nQP5-9"
      },
      "source": [
        "***Гистограмма зарплат***"
      ]
    },
    {
      "cell_type": "code",
      "metadata": {
        "id": "ACRhIvqyJMr6",
        "colab": {
          "base_uri": "https://localhost:8080/",
          "height": 390
        },
        "outputId": "9b3d4249-2885-437a-f7c6-3c065ebc3fb5"
      },
      "source": [
        "plt.figure(figsize=(14,6)) # Устанавливаем размер графика\n",
        "sal = ЗП[ЗП < 300000] # Оставляем только те данные, значения котоырх менее 300 тыс\n",
        "plt.hist(sal, bins=15) # Выводим гистограмму\n",
        "plt.title('ЗП') # Задаем название графика\n",
        "plt.show()"
      ],
      "execution_count": null,
      "outputs": [
        {
          "output_type": "display_data",
          "data": {
            "image/png": "[encoded data removed]",
            "text/plain": [
              "<Figure size 1008x432 with 1 Axes>"
            ]
          },
          "metadata": {
            "tags": []
          }
        }
      ]
    },
    {
      "cell_type": "markdown",
      "metadata": {
        "id": "Ukqa3v2fRvwy"
      },
      "source": [
        "***Зависимость между зарплатой и возрастом***"
      ]
    },
    {
      "cell_type": "code",
      "metadata": {
        "id": "IO6rvfjWI-5m",
        "colab": {
          "base_uri": "https://localhost:8080/",
          "height": 388
        },
        "outputId": "33b095de-ff76-478d-dc55-4eed9eda9054"
      },
      "source": [
        "plt.figure(figsize=(14,6)) # Устанавливаем размер графика\n",
        "mask = (Возраст > 0) * (Возраст < 70) * (ЗП < 700000)  # Задаем ограничения для поиска\n",
        "plt.scatter(Возраст[mask], ЗП[mask], alpha = .7) # Выводим график зависимости зарплаты от возраста\n",
        "plt.xlabel('Возраст') # Подпись по оси Х\n",
        "plt.ylabel('ЗП') # Подпись по оси Y\n",
        "plt.show()"
      ],
      "execution_count": null,
      "outputs": [
        {
          "output_type": "display_data",
          "data": {
            "image/png": "[encoded data removed]",
            "text/plain": [
              "<Figure size 1008x432 with 1 Axes>"
            ]
          },
          "metadata": {
            "tags": []
          }
        }
      ]
    },
    {
      "cell_type": "markdown",
      "metadata": {
        "id": "7siPk7OB5Hdx"
      },
      "source": [
        "***Зависимость между опытом и возрастом***"
      ]
    },
    {
      "cell_type": "code",
      "metadata": {
        "colab": {
          "base_uri": "https://localhost:8080/",
          "height": 388
        },
        "id": "CoPJZ95L5GAH",
        "outputId": "2d5e34b0-bcb3-4512-f5f2-2bcfca1752bf"
      },
      "source": [
        "plt.figure(figsize=(14,6)) # Устанавливаем размер графика\n",
        "mask = (Возраст > 0) * (Возраст < 70) * (Опыт < 700)  # Задаем ограничения для поиска\n",
        "plt.scatter(Возраст[mask], Опыт[mask]/12, alpha=.7) # Выводим график зависимости зарплаты от возраста\n",
        "plt.xlabel('Возраст') # Подпись по оси Х\n",
        "plt.ylabel('Опыт') # Подпись по оси Y\n",
        "plt.show()"
      ],
      "execution_count": null,
      "outputs": [
        {
          "output_type": "display_data",
          "data": {
            "image/png": "[encoded data removed]",
            "text/plain": [
              "<Figure size 1008x432 with 1 Axes>"
            ]
          },
          "metadata": {
            "tags": []
          }
        }
      ]
    },
    {
      "cell_type": "markdown",
      "metadata": {
        "id": "J-oWf_7K6UJa"
      },
      "source": [
        "***Количество мужчин и женщин в базе***"
      ]
    },
    {
      "cell_type": "code",
      "metadata": {
        "colab": {
          "base_uri": "https://localhost:8080/",
          "height": 374
        },
        "id": "cey3zUnr6gCj",
        "outputId": "97cb32b8-9e22-414a-c2d6-d80abc479437"
      },
      "source": [
        "plt.figure(figsize=(14,6)) # Устанавливаем размер графика\n",
        "value = np.unique(Пол, return_counts=True) # Получаем уникальные значения из массива \"пол\" и их количество\n",
        "plt.bar(value[0], value[1]) # Выводим гистограмму\n",
        "plt.show()"
      ],
      "execution_count": null,
      "outputs": [
        {
          "output_type": "display_data",
          "data": {
            "image/png": "[encoded data removed]",
            "text/plain": [
              "<Figure size 1008x432 with 1 Axes>"
            ]
          },
          "metadata": {
            "tags": []
          }
        }
      ]
    },
    {
      "cell_type": "markdown",
      "metadata": {
        "id": "IIcZj_0B96SA"
      },
      "source": [
        "***Средние данные по полу***"
      ]
    },
    {
      "cell_type": "code",
      "metadata": {
        "id": "M1D7oGsc628C"
      },
      "source": [
        "mask_man = (Пол =='М') # Получаем данные по мужчинам\n",
        "mask_woman = (Пол =='Ж') # Получаем данные по женщинам"
      ],
      "execution_count": null,
      "outputs": []
    },
    {
      "cell_type": "code",
      "metadata": {
        "colab": {
          "base_uri": "https://localhost:8080/",
          "height": 354
        },
        "id": "d2X4Ycq8_J8t",
        "outputId": "3a86e98f-21ba-4fa1-ca16-4cf2f57a39d8"
      },
      "source": [
        "# Средний возраст\n",
        "plt.figure(figsize=(10,5)) # Устанавливаем размер графика\n",
        "man_m = Возраст[mask_man].mean() # Считаем средний возраст мужчин\n",
        "woman_m = Возраст[mask_woman].mean() # Считаем средний возраст женщин         \n",
        "plt.bar(['Мужчины','Женщины'], [man_m, woman_m]) # Выводим гистограмму\n",
        "plt.show()\n",
        "print('Средний возраст мужчик: ', round(man_m,1))\n",
        "print('Средний возраст женщин: ', round(woman_m,1))"
      ],
      "execution_count": null,
      "outputs": [
        {
          "output_type": "display_data",
          "data": {
            "image/png": "[encoded data removed]",
            "text/plain": [
              "<Figure size 720x360 with 1 Axes>"
            ]
          },
          "metadata": {
            "tags": []
          }
        },
        {
          "output_type": "stream",
          "text": [
            "Средний возраст мужчик:  33.2\n",
            "Средний возраст женщин:  31.0\n"
          ],
          "name": "stdout"
        }
      ]
    },
    {
      "cell_type": "code",
      "metadata": {
        "colab": {
          "base_uri": "https://localhost:8080/",
          "height": 354
        },
        "id": "5yAE3VJ1-GGP",
        "outputId": "412b453a-0e2e-414c-e4c9-a569ef7a9c77"
      },
      "source": [
        "#Средняя ЗП\n",
        "plt.figure(figsize=(10,5)) # Устанавливаем размер графика\n",
        "man_m = ЗП[mask_man].mean() # Считаем средний возраст мужчин\n",
        "woman_m = ЗП[mask_woman].mean() # Считаем средний возраст женщин         \n",
        "plt.bar(['Мужчины','Женщины'], [man_m, woman_m]) # Выводим гистограмму\n",
        "plt.show()\n",
        "print('Средний возраст мужчик: ', round(man_m,1))\n",
        "print('Средний возраст женщин: ', round(woman_m,1))"
      ],
      "execution_count": null,
      "outputs": [
        {
          "output_type": "display_data",
          "data": {
            "image/png": "[encoded data removed]",
            "text/plain": [
              "<Figure size 720x360 with 1 Axes>"
            ]
          },
          "metadata": {
            "tags": []
          }
        },
        {
          "output_type": "stream",
          "text": [
            "Средний возраст мужчик:  82221.3\n",
            "Средний возраст женщин:  59893.5\n"
          ],
          "name": "stdout"
        }
      ]
    },
    {
      "cell_type": "code",
      "metadata": {
        "colab": {
          "base_uri": "https://localhost:8080/",
          "height": 354
        },
        "id": "QRnUgqgjATqN",
        "outputId": "ce16f965-7dbe-4881-9cf0-180ab5fd9c6c"
      },
      "source": [
        "#Средний опыт работы\n",
        "plt.figure(figsize=(10,5)) # Устанавливаем размер графика\n",
        "man_m = Опыт[mask_man].mean() # Считаем средний возраст мужчин\n",
        "woman_m = Опыт[mask_woman].mean() # Считаем средний возраст женщин         \n",
        "plt.bar(['Мужчины','Женщины'], [man_m, woman_m]) # Выводим гистограмму\n",
        "plt.show()\n",
        "print('Средний возраст мужчик: ', round(man_m,1))\n",
        "print('Средний возраст женщин: ', round(woman_m,1))"
      ],
      "execution_count": null,
      "outputs": [
        {
          "output_type": "display_data",
          "data": {
            "image/png": "[encoded data removed]",
            "text/plain": [
              "<Figure size 720x360 with 1 Axes>"
            ]
          },
          "metadata": {
            "tags": []
          }
        },
        {
          "output_type": "stream",
          "text": [
            "Средний возраст мужчик:  120.4\n",
            "Средний возраст женщин:  103.3\n"
          ],
          "name": "stdout"
        }
      ]
    },
    {
      "cell_type": "markdown",
      "metadata": {
        "id": "2h0VUjLrER0t"
      },
      "source": [
        "***Средние зарплаты по городам***"
      ]
    },
    {
      "cell_type": "code",
      "metadata": {
        "colab": {
          "base_uri": "https://localhost:8080/",
          "height": 803
        },
        "id": "IfgyGTBt4hCr",
        "outputId": "e45d0ca9-f724-4c7d-adb9-d3135b3498ec"
      },
      "source": [
        "cities = np.unique(Город) # Получаем все уникальные названия городов, которые есть в базе\n",
        "sal_mean = [] # Создаем список, в котором будем сохранять среднюю зарплату для каждого города\n",
        "for i in range(len(cities)):\n",
        "  mask = (Город == cities[i]) # Создаем маску для города с индексом i в списке cities\n",
        "  sal_mean.append(ЗП[mask].mean()) # Добавляем в список средних зарплат - среднюю зарплату для текущего города\n",
        "plt.figure(figsize=(22,10)) # Устанавливаем размер графика\n",
        "plt.title('Оценка средней зп для каждого из городов')\n",
        "plt.bar(cities, sal_mean) # Выводим гистограмму\n",
        "plt.xticks(rotation=90) # Вращаем подписи по Х на 90 градусов (чтобы выводились вертикально)\n",
        "plt.show()"
      ],
      "execution_count": null,
      "outputs": [
        {
          "output_type": "display_data",
          "data": {
            "image/png": "[encoded data removed]",
            "text/plain": [
              "<Figure size 1584x720 with 1 Axes>"
            ]
          },
          "metadata": {
            "tags": []
          }
        }
      ]
    }
  ]
}